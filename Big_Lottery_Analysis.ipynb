{
 "cells": [
  {
   "cell_type": "code",
   "execution_count": 1,
   "id": "57d14f02",
   "metadata": {},
   "outputs": [
    {
     "name": "stdout",
     "output_type": "stream",
     "text": [
      "成功引用Apriori module囉!\n",
      "args:  (10,)\n"
     ]
    }
   ],
   "source": [
    "import Apriori as ap\n",
    "ap.for_test(10)"
   ]
  },
  {
   "cell_type": "code",
   "execution_count": 7,
   "id": "62f0ca2f",
   "metadata": {},
   "outputs": [
    {
     "name": "stdout",
     "output_type": "stream",
     "text": [
      "Name: ipython\n",
      "Version: 7.31.1\n",
      "Summary: IPython: Productive Interactive Computing\n",
      "Home-page: https://ipython.org\n",
      "Author: The IPython Development Team\n",
      "Author-email: ipython-dev@python.org\n",
      "License: BSD\n",
      "Location: c:\\users\\mi83\\anaconda3\\lib\\site-packages\n",
      "Requires: backcall, colorama, decorator, jedi, matplotlib-inline, pickleshare, prompt-toolkit, pygments, setuptools, traitlets\n",
      "Required-by: ipykernel, ipywidgets, jupyter-console, jupyterlab, spyder, spyder-kernels\n"
     ]
    }
   ],
   "source": [
    "!pip show IPython"
   ]
  },
  {
   "cell_type": "code",
   "execution_count": 4,
   "id": "995150c5",
   "metadata": {
    "scrolled": true
   },
   "outputs": [
    {
     "name": "stdout",
     "output_type": "stream",
     "text": [
      "support:  0.3\n",
      "confidence:  0.6\n",
      "size:  2\n",
      "itemset_dict:  {}\n",
      "frequent_itemset_list:  []\n",
      "參數設定完成。support = 0.3, confidence = 0.6\n",
      "support:  0.3\n",
      "confidence:  0.6\n",
      "size:  2\n",
      "itemset_dict:  {}\n",
      "frequent_itemset_list:  []\n"
     ]
    }
   ],
   "source": [
    "import Apriori as ap\n",
    "ap.show_param()\n",
    "\n",
    "ap.set_param(0.3)\n",
    "ap.show_param()"
   ]
  },
  {
   "cell_type": "markdown",
   "id": "866dcdf8",
   "metadata": {},
   "source": [
    "# 大樂透分析 __ 爬取歷史資料\n",
    "從公開資訊網中透過爬蟲取得從大樂透開始以來的所有開獎紀錄"
   ]
  },
  {
   "cell_type": "code",
   "execution_count": 5,
   "id": "4f4782bb",
   "metadata": {},
   "outputs": [
    {
     "name": "stdout",
     "output_type": "stream",
     "text": [
      "開始連線\n"
     ]
    },
    {
     "name": "stderr",
     "output_type": "stream",
     "text": [
      "C:\\Users\\mi83\\Anaconda3\\lib\\site-packages\\urllib3\\connectionpool.py:1045: InsecureRequestWarning: Unverified HTTPS request is being made to host 'www.lotto-8.com'. Adding certificate verification is strongly advised. See: https://urllib3.readthedocs.io/en/1.26.x/advanced-usage.html#ssl-warnings\n",
      "  warnings.warn(\n"
     ]
    },
    {
     "name": "stdout",
     "output_type": "stream",
     "text": [
      "已取得第 1 頁資料...\n"
     ]
    },
    {
     "name": "stderr",
     "output_type": "stream",
     "text": [
      "C:\\Users\\mi83\\Anaconda3\\lib\\site-packages\\urllib3\\connectionpool.py:1045: InsecureRequestWarning: Unverified HTTPS request is being made to host 'www.lotto-8.com'. Adding certificate verification is strongly advised. See: https://urllib3.readthedocs.io/en/1.26.x/advanced-usage.html#ssl-warnings\n",
      "  warnings.warn(\n"
     ]
    },
    {
     "name": "stdout",
     "output_type": "stream",
     "text": [
      "已取得第 2 頁資料...\n"
     ]
    },
    {
     "name": "stderr",
     "output_type": "stream",
     "text": [
      "C:\\Users\\mi83\\Anaconda3\\lib\\site-packages\\urllib3\\connectionpool.py:1045: InsecureRequestWarning: Unverified HTTPS request is being made to host 'www.lotto-8.com'. Adding certificate verification is strongly advised. See: https://urllib3.readthedocs.io/en/1.26.x/advanced-usage.html#ssl-warnings\n",
      "  warnings.warn(\n"
     ]
    },
    {
     "name": "stdout",
     "output_type": "stream",
     "text": [
      "已取得第 3 頁資料...\n"
     ]
    },
    {
     "name": "stderr",
     "output_type": "stream",
     "text": [
      "C:\\Users\\mi83\\Anaconda3\\lib\\site-packages\\urllib3\\connectionpool.py:1045: InsecureRequestWarning: Unverified HTTPS request is being made to host 'www.lotto-8.com'. Adding certificate verification is strongly advised. See: https://urllib3.readthedocs.io/en/1.26.x/advanced-usage.html#ssl-warnings\n",
      "  warnings.warn(\n"
     ]
    },
    {
     "name": "stdout",
     "output_type": "stream",
     "text": [
      "已取得第 4 頁資料...\n"
     ]
    },
    {
     "name": "stderr",
     "output_type": "stream",
     "text": [
      "C:\\Users\\mi83\\Anaconda3\\lib\\site-packages\\urllib3\\connectionpool.py:1045: InsecureRequestWarning: Unverified HTTPS request is being made to host 'www.lotto-8.com'. Adding certificate verification is strongly advised. See: https://urllib3.readthedocs.io/en/1.26.x/advanced-usage.html#ssl-warnings\n",
      "  warnings.warn(\n"
     ]
    },
    {
     "name": "stdout",
     "output_type": "stream",
     "text": [
      "已取得第 5 頁資料...\n"
     ]
    },
    {
     "name": "stderr",
     "output_type": "stream",
     "text": [
      "C:\\Users\\mi83\\Anaconda3\\lib\\site-packages\\urllib3\\connectionpool.py:1045: InsecureRequestWarning: Unverified HTTPS request is being made to host 'www.lotto-8.com'. Adding certificate verification is strongly advised. See: https://urllib3.readthedocs.io/en/1.26.x/advanced-usage.html#ssl-warnings\n",
      "  warnings.warn(\n"
     ]
    },
    {
     "name": "stdout",
     "output_type": "stream",
     "text": [
      "已取得第 6 頁資料...\n"
     ]
    },
    {
     "name": "stderr",
     "output_type": "stream",
     "text": [
      "C:\\Users\\mi83\\Anaconda3\\lib\\site-packages\\urllib3\\connectionpool.py:1045: InsecureRequestWarning: Unverified HTTPS request is being made to host 'www.lotto-8.com'. Adding certificate verification is strongly advised. See: https://urllib3.readthedocs.io/en/1.26.x/advanced-usage.html#ssl-warnings\n",
      "  warnings.warn(\n"
     ]
    },
    {
     "name": "stdout",
     "output_type": "stream",
     "text": [
      "已取得第 7 頁資料...\n"
     ]
    },
    {
     "name": "stderr",
     "output_type": "stream",
     "text": [
      "C:\\Users\\mi83\\Anaconda3\\lib\\site-packages\\urllib3\\connectionpool.py:1045: InsecureRequestWarning: Unverified HTTPS request is being made to host 'www.lotto-8.com'. Adding certificate verification is strongly advised. See: https://urllib3.readthedocs.io/en/1.26.x/advanced-usage.html#ssl-warnings\n",
      "  warnings.warn(\n"
     ]
    },
    {
     "name": "stdout",
     "output_type": "stream",
     "text": [
      "已取得第 8 頁資料...\n"
     ]
    },
    {
     "name": "stderr",
     "output_type": "stream",
     "text": [
      "C:\\Users\\mi83\\Anaconda3\\lib\\site-packages\\urllib3\\connectionpool.py:1045: InsecureRequestWarning: Unverified HTTPS request is being made to host 'www.lotto-8.com'. Adding certificate verification is strongly advised. See: https://urllib3.readthedocs.io/en/1.26.x/advanced-usage.html#ssl-warnings\n",
      "  warnings.warn(\n"
     ]
    },
    {
     "name": "stdout",
     "output_type": "stream",
     "text": [
      "已取得第 9 頁資料...\n"
     ]
    },
    {
     "name": "stderr",
     "output_type": "stream",
     "text": [
      "C:\\Users\\mi83\\Anaconda3\\lib\\site-packages\\urllib3\\connectionpool.py:1045: InsecureRequestWarning: Unverified HTTPS request is being made to host 'www.lotto-8.com'. Adding certificate verification is strongly advised. See: https://urllib3.readthedocs.io/en/1.26.x/advanced-usage.html#ssl-warnings\n",
      "  warnings.warn(\n"
     ]
    },
    {
     "name": "stdout",
     "output_type": "stream",
     "text": [
      "已取得第 10 頁資料...\n"
     ]
    },
    {
     "name": "stderr",
     "output_type": "stream",
     "text": [
      "C:\\Users\\mi83\\Anaconda3\\lib\\site-packages\\urllib3\\connectionpool.py:1045: InsecureRequestWarning: Unverified HTTPS request is being made to host 'www.lotto-8.com'. Adding certificate verification is strongly advised. See: https://urllib3.readthedocs.io/en/1.26.x/advanced-usage.html#ssl-warnings\n",
      "  warnings.warn(\n"
     ]
    },
    {
     "name": "stdout",
     "output_type": "stream",
     "text": [
      "已取得第 11 頁資料...\n"
     ]
    },
    {
     "name": "stderr",
     "output_type": "stream",
     "text": [
      "C:\\Users\\mi83\\Anaconda3\\lib\\site-packages\\urllib3\\connectionpool.py:1045: InsecureRequestWarning: Unverified HTTPS request is being made to host 'www.lotto-8.com'. Adding certificate verification is strongly advised. See: https://urllib3.readthedocs.io/en/1.26.x/advanced-usage.html#ssl-warnings\n",
      "  warnings.warn(\n"
     ]
    },
    {
     "name": "stdout",
     "output_type": "stream",
     "text": [
      "已取得第 12 頁資料...\n"
     ]
    },
    {
     "name": "stderr",
     "output_type": "stream",
     "text": [
      "C:\\Users\\mi83\\Anaconda3\\lib\\site-packages\\urllib3\\connectionpool.py:1045: InsecureRequestWarning: Unverified HTTPS request is being made to host 'www.lotto-8.com'. Adding certificate verification is strongly advised. See: https://urllib3.readthedocs.io/en/1.26.x/advanced-usage.html#ssl-warnings\n",
      "  warnings.warn(\n"
     ]
    },
    {
     "name": "stdout",
     "output_type": "stream",
     "text": [
      "已取得第 13 頁資料...\n"
     ]
    },
    {
     "name": "stderr",
     "output_type": "stream",
     "text": [
      "C:\\Users\\mi83\\Anaconda3\\lib\\site-packages\\urllib3\\connectionpool.py:1045: InsecureRequestWarning: Unverified HTTPS request is being made to host 'www.lotto-8.com'. Adding certificate verification is strongly advised. See: https://urllib3.readthedocs.io/en/1.26.x/advanced-usage.html#ssl-warnings\n",
      "  warnings.warn(\n"
     ]
    },
    {
     "name": "stdout",
     "output_type": "stream",
     "text": [
      "已取得第 14 頁資料...\n"
     ]
    },
    {
     "name": "stderr",
     "output_type": "stream",
     "text": [
      "C:\\Users\\mi83\\Anaconda3\\lib\\site-packages\\urllib3\\connectionpool.py:1045: InsecureRequestWarning: Unverified HTTPS request is being made to host 'www.lotto-8.com'. Adding certificate verification is strongly advised. See: https://urllib3.readthedocs.io/en/1.26.x/advanced-usage.html#ssl-warnings\n",
      "  warnings.warn(\n"
     ]
    },
    {
     "name": "stdout",
     "output_type": "stream",
     "text": [
      "已取得第 15 頁資料...\n"
     ]
    },
    {
     "name": "stderr",
     "output_type": "stream",
     "text": [
      "C:\\Users\\mi83\\Anaconda3\\lib\\site-packages\\urllib3\\connectionpool.py:1045: InsecureRequestWarning: Unverified HTTPS request is being made to host 'www.lotto-8.com'. Adding certificate verification is strongly advised. See: https://urllib3.readthedocs.io/en/1.26.x/advanced-usage.html#ssl-warnings\n",
      "  warnings.warn(\n"
     ]
    },
    {
     "name": "stdout",
     "output_type": "stream",
     "text": [
      "已取得第 16 頁資料...\n"
     ]
    },
    {
     "name": "stderr",
     "output_type": "stream",
     "text": [
      "C:\\Users\\mi83\\Anaconda3\\lib\\site-packages\\urllib3\\connectionpool.py:1045: InsecureRequestWarning: Unverified HTTPS request is being made to host 'www.lotto-8.com'. Adding certificate verification is strongly advised. See: https://urllib3.readthedocs.io/en/1.26.x/advanced-usage.html#ssl-warnings\n",
      "  warnings.warn(\n"
     ]
    },
    {
     "name": "stdout",
     "output_type": "stream",
     "text": [
      "已取得第 17 頁資料...\n"
     ]
    },
    {
     "name": "stderr",
     "output_type": "stream",
     "text": [
      "C:\\Users\\mi83\\Anaconda3\\lib\\site-packages\\urllib3\\connectionpool.py:1045: InsecureRequestWarning: Unverified HTTPS request is being made to host 'www.lotto-8.com'. Adding certificate verification is strongly advised. See: https://urllib3.readthedocs.io/en/1.26.x/advanced-usage.html#ssl-warnings\n",
      "  warnings.warn(\n"
     ]
    },
    {
     "name": "stdout",
     "output_type": "stream",
     "text": [
      "已取得第 18 頁資料...\n"
     ]
    },
    {
     "name": "stderr",
     "output_type": "stream",
     "text": [
      "C:\\Users\\mi83\\Anaconda3\\lib\\site-packages\\urllib3\\connectionpool.py:1045: InsecureRequestWarning: Unverified HTTPS request is being made to host 'www.lotto-8.com'. Adding certificate verification is strongly advised. See: https://urllib3.readthedocs.io/en/1.26.x/advanced-usage.html#ssl-warnings\n",
      "  warnings.warn(\n"
     ]
    },
    {
     "name": "stdout",
     "output_type": "stream",
     "text": [
      "已取得第 19 頁資料...\n"
     ]
    },
    {
     "name": "stderr",
     "output_type": "stream",
     "text": [
      "C:\\Users\\mi83\\Anaconda3\\lib\\site-packages\\urllib3\\connectionpool.py:1045: InsecureRequestWarning: Unverified HTTPS request is being made to host 'www.lotto-8.com'. Adding certificate verification is strongly advised. See: https://urllib3.readthedocs.io/en/1.26.x/advanced-usage.html#ssl-warnings\n",
      "  warnings.warn(\n"
     ]
    },
    {
     "name": "stdout",
     "output_type": "stream",
     "text": [
      "已取得第 20 頁資料...\n"
     ]
    },
    {
     "name": "stderr",
     "output_type": "stream",
     "text": [
      "C:\\Users\\mi83\\Anaconda3\\lib\\site-packages\\urllib3\\connectionpool.py:1045: InsecureRequestWarning: Unverified HTTPS request is being made to host 'www.lotto-8.com'. Adding certificate verification is strongly advised. See: https://urllib3.readthedocs.io/en/1.26.x/advanced-usage.html#ssl-warnings\n",
      "  warnings.warn(\n"
     ]
    },
    {
     "name": "stdout",
     "output_type": "stream",
     "text": [
      "已取得第 21 頁資料...\n"
     ]
    },
    {
     "name": "stderr",
     "output_type": "stream",
     "text": [
      "C:\\Users\\mi83\\Anaconda3\\lib\\site-packages\\urllib3\\connectionpool.py:1045: InsecureRequestWarning: Unverified HTTPS request is being made to host 'www.lotto-8.com'. Adding certificate verification is strongly advised. See: https://urllib3.readthedocs.io/en/1.26.x/advanced-usage.html#ssl-warnings\n",
      "  warnings.warn(\n"
     ]
    },
    {
     "name": "stdout",
     "output_type": "stream",
     "text": [
      "已取得第 22 頁資料...\n"
     ]
    },
    {
     "name": "stderr",
     "output_type": "stream",
     "text": [
      "C:\\Users\\mi83\\Anaconda3\\lib\\site-packages\\urllib3\\connectionpool.py:1045: InsecureRequestWarning: Unverified HTTPS request is being made to host 'www.lotto-8.com'. Adding certificate verification is strongly advised. See: https://urllib3.readthedocs.io/en/1.26.x/advanced-usage.html#ssl-warnings\n",
      "  warnings.warn(\n"
     ]
    },
    {
     "name": "stdout",
     "output_type": "stream",
     "text": [
      "已取得第 23 頁資料...\n"
     ]
    },
    {
     "name": "stderr",
     "output_type": "stream",
     "text": [
      "C:\\Users\\mi83\\Anaconda3\\lib\\site-packages\\urllib3\\connectionpool.py:1045: InsecureRequestWarning: Unverified HTTPS request is being made to host 'www.lotto-8.com'. Adding certificate verification is strongly advised. See: https://urllib3.readthedocs.io/en/1.26.x/advanced-usage.html#ssl-warnings\n",
      "  warnings.warn(\n"
     ]
    },
    {
     "name": "stdout",
     "output_type": "stream",
     "text": [
      "已取得第 24 頁資料...\n"
     ]
    },
    {
     "name": "stderr",
     "output_type": "stream",
     "text": [
      "C:\\Users\\mi83\\Anaconda3\\lib\\site-packages\\urllib3\\connectionpool.py:1045: InsecureRequestWarning: Unverified HTTPS request is being made to host 'www.lotto-8.com'. Adding certificate verification is strongly advised. See: https://urllib3.readthedocs.io/en/1.26.x/advanced-usage.html#ssl-warnings\n",
      "  warnings.warn(\n"
     ]
    },
    {
     "name": "stdout",
     "output_type": "stream",
     "text": [
      "已取得第 25 頁資料...\n"
     ]
    },
    {
     "name": "stderr",
     "output_type": "stream",
     "text": [
      "C:\\Users\\mi83\\Anaconda3\\lib\\site-packages\\urllib3\\connectionpool.py:1045: InsecureRequestWarning: Unverified HTTPS request is being made to host 'www.lotto-8.com'. Adding certificate verification is strongly advised. See: https://urllib3.readthedocs.io/en/1.26.x/advanced-usage.html#ssl-warnings\n",
      "  warnings.warn(\n"
     ]
    },
    {
     "name": "stdout",
     "output_type": "stream",
     "text": [
      "已取得第 26 頁資料...\n"
     ]
    },
    {
     "name": "stderr",
     "output_type": "stream",
     "text": [
      "C:\\Users\\mi83\\Anaconda3\\lib\\site-packages\\urllib3\\connectionpool.py:1045: InsecureRequestWarning: Unverified HTTPS request is being made to host 'www.lotto-8.com'. Adding certificate verification is strongly advised. See: https://urllib3.readthedocs.io/en/1.26.x/advanced-usage.html#ssl-warnings\n",
      "  warnings.warn(\n"
     ]
    },
    {
     "name": "stdout",
     "output_type": "stream",
     "text": [
      "已取得第 27 頁資料...\n"
     ]
    },
    {
     "name": "stderr",
     "output_type": "stream",
     "text": [
      "C:\\Users\\mi83\\Anaconda3\\lib\\site-packages\\urllib3\\connectionpool.py:1045: InsecureRequestWarning: Unverified HTTPS request is being made to host 'www.lotto-8.com'. Adding certificate verification is strongly advised. See: https://urllib3.readthedocs.io/en/1.26.x/advanced-usage.html#ssl-warnings\n",
      "  warnings.warn(\n"
     ]
    },
    {
     "name": "stdout",
     "output_type": "stream",
     "text": [
      "已取得第 28 頁資料...\n"
     ]
    },
    {
     "name": "stderr",
     "output_type": "stream",
     "text": [
      "C:\\Users\\mi83\\Anaconda3\\lib\\site-packages\\urllib3\\connectionpool.py:1045: InsecureRequestWarning: Unverified HTTPS request is being made to host 'www.lotto-8.com'. Adding certificate verification is strongly advised. See: https://urllib3.readthedocs.io/en/1.26.x/advanced-usage.html#ssl-warnings\n",
      "  warnings.warn(\n"
     ]
    },
    {
     "name": "stdout",
     "output_type": "stream",
     "text": [
      "已取得第 29 頁資料...\n"
     ]
    },
    {
     "name": "stderr",
     "output_type": "stream",
     "text": [
      "C:\\Users\\mi83\\Anaconda3\\lib\\site-packages\\urllib3\\connectionpool.py:1045: InsecureRequestWarning: Unverified HTTPS request is being made to host 'www.lotto-8.com'. Adding certificate verification is strongly advised. See: https://urllib3.readthedocs.io/en/1.26.x/advanced-usage.html#ssl-warnings\n",
      "  warnings.warn(\n"
     ]
    },
    {
     "name": "stdout",
     "output_type": "stream",
     "text": [
      "已取得第 30 頁資料...\n"
     ]
    },
    {
     "name": "stderr",
     "output_type": "stream",
     "text": [
      "C:\\Users\\mi83\\Anaconda3\\lib\\site-packages\\urllib3\\connectionpool.py:1045: InsecureRequestWarning: Unverified HTTPS request is being made to host 'www.lotto-8.com'. Adding certificate verification is strongly advised. See: https://urllib3.readthedocs.io/en/1.26.x/advanced-usage.html#ssl-warnings\n",
      "  warnings.warn(\n"
     ]
    },
    {
     "name": "stdout",
     "output_type": "stream",
     "text": [
      "已取得第 31 頁資料...\n"
     ]
    },
    {
     "name": "stderr",
     "output_type": "stream",
     "text": [
      "C:\\Users\\mi83\\Anaconda3\\lib\\site-packages\\urllib3\\connectionpool.py:1045: InsecureRequestWarning: Unverified HTTPS request is being made to host 'www.lotto-8.com'. Adding certificate verification is strongly advised. See: https://urllib3.readthedocs.io/en/1.26.x/advanced-usage.html#ssl-warnings\n",
      "  warnings.warn(\n"
     ]
    },
    {
     "name": "stdout",
     "output_type": "stream",
     "text": [
      "已取得第 32 頁資料...\n"
     ]
    },
    {
     "name": "stderr",
     "output_type": "stream",
     "text": [
      "C:\\Users\\mi83\\Anaconda3\\lib\\site-packages\\urllib3\\connectionpool.py:1045: InsecureRequestWarning: Unverified HTTPS request is being made to host 'www.lotto-8.com'. Adding certificate verification is strongly advised. See: https://urllib3.readthedocs.io/en/1.26.x/advanced-usage.html#ssl-warnings\n",
      "  warnings.warn(\n"
     ]
    },
    {
     "name": "stdout",
     "output_type": "stream",
     "text": [
      "已取得第 33 頁資料...\n"
     ]
    },
    {
     "name": "stderr",
     "output_type": "stream",
     "text": [
      "C:\\Users\\mi83\\Anaconda3\\lib\\site-packages\\urllib3\\connectionpool.py:1045: InsecureRequestWarning: Unverified HTTPS request is being made to host 'www.lotto-8.com'. Adding certificate verification is strongly advised. See: https://urllib3.readthedocs.io/en/1.26.x/advanced-usage.html#ssl-warnings\n",
      "  warnings.warn(\n"
     ]
    },
    {
     "name": "stdout",
     "output_type": "stream",
     "text": [
      "已取得第 34 頁資料...\n"
     ]
    },
    {
     "name": "stderr",
     "output_type": "stream",
     "text": [
      "C:\\Users\\mi83\\Anaconda3\\lib\\site-packages\\urllib3\\connectionpool.py:1045: InsecureRequestWarning: Unverified HTTPS request is being made to host 'www.lotto-8.com'. Adding certificate verification is strongly advised. See: https://urllib3.readthedocs.io/en/1.26.x/advanced-usage.html#ssl-warnings\n",
      "  warnings.warn(\n"
     ]
    },
    {
     "name": "stdout",
     "output_type": "stream",
     "text": [
      "已取得第 35 頁資料...\n"
     ]
    },
    {
     "name": "stderr",
     "output_type": "stream",
     "text": [
      "C:\\Users\\mi83\\Anaconda3\\lib\\site-packages\\urllib3\\connectionpool.py:1045: InsecureRequestWarning: Unverified HTTPS request is being made to host 'www.lotto-8.com'. Adding certificate verification is strongly advised. See: https://urllib3.readthedocs.io/en/1.26.x/advanced-usage.html#ssl-warnings\n",
      "  warnings.warn(\n"
     ]
    },
    {
     "name": "stdout",
     "output_type": "stream",
     "text": [
      "已取得第 36 頁資料...\n"
     ]
    },
    {
     "name": "stderr",
     "output_type": "stream",
     "text": [
      "C:\\Users\\mi83\\Anaconda3\\lib\\site-packages\\urllib3\\connectionpool.py:1045: InsecureRequestWarning: Unverified HTTPS request is being made to host 'www.lotto-8.com'. Adding certificate verification is strongly advised. See: https://urllib3.readthedocs.io/en/1.26.x/advanced-usage.html#ssl-warnings\n",
      "  warnings.warn(\n"
     ]
    },
    {
     "name": "stdout",
     "output_type": "stream",
     "text": [
      "已取得第 37 頁資料...\n"
     ]
    },
    {
     "name": "stderr",
     "output_type": "stream",
     "text": [
      "C:\\Users\\mi83\\Anaconda3\\lib\\site-packages\\urllib3\\connectionpool.py:1045: InsecureRequestWarning: Unverified HTTPS request is being made to host 'www.lotto-8.com'. Adding certificate verification is strongly advised. See: https://urllib3.readthedocs.io/en/1.26.x/advanced-usage.html#ssl-warnings\n",
      "  warnings.warn(\n"
     ]
    },
    {
     "name": "stdout",
     "output_type": "stream",
     "text": [
      "已取得第 38 頁資料...\n"
     ]
    },
    {
     "name": "stderr",
     "output_type": "stream",
     "text": [
      "C:\\Users\\mi83\\Anaconda3\\lib\\site-packages\\urllib3\\connectionpool.py:1045: InsecureRequestWarning: Unverified HTTPS request is being made to host 'www.lotto-8.com'. Adding certificate verification is strongly advised. See: https://urllib3.readthedocs.io/en/1.26.x/advanced-usage.html#ssl-warnings\n",
      "  warnings.warn(\n"
     ]
    },
    {
     "name": "stdout",
     "output_type": "stream",
     "text": [
      "已取得第 39 頁資料...\n"
     ]
    },
    {
     "name": "stderr",
     "output_type": "stream",
     "text": [
      "C:\\Users\\mi83\\Anaconda3\\lib\\site-packages\\urllib3\\connectionpool.py:1045: InsecureRequestWarning: Unverified HTTPS request is being made to host 'www.lotto-8.com'. Adding certificate verification is strongly advised. See: https://urllib3.readthedocs.io/en/1.26.x/advanced-usage.html#ssl-warnings\n",
      "  warnings.warn(\n"
     ]
    },
    {
     "name": "stdout",
     "output_type": "stream",
     "text": [
      "已取得第 40 頁資料...\n"
     ]
    },
    {
     "name": "stderr",
     "output_type": "stream",
     "text": [
      "C:\\Users\\mi83\\Anaconda3\\lib\\site-packages\\urllib3\\connectionpool.py:1045: InsecureRequestWarning: Unverified HTTPS request is being made to host 'www.lotto-8.com'. Adding certificate verification is strongly advised. See: https://urllib3.readthedocs.io/en/1.26.x/advanced-usage.html#ssl-warnings\n",
      "  warnings.warn(\n"
     ]
    },
    {
     "name": "stdout",
     "output_type": "stream",
     "text": [
      "已取得第 41 頁資料...\n"
     ]
    },
    {
     "name": "stderr",
     "output_type": "stream",
     "text": [
      "C:\\Users\\mi83\\Anaconda3\\lib\\site-packages\\urllib3\\connectionpool.py:1045: InsecureRequestWarning: Unverified HTTPS request is being made to host 'www.lotto-8.com'. Adding certificate verification is strongly advised. See: https://urllib3.readthedocs.io/en/1.26.x/advanced-usage.html#ssl-warnings\n",
      "  warnings.warn(\n"
     ]
    },
    {
     "name": "stdout",
     "output_type": "stream",
     "text": [
      "已取得第 42 頁資料...\n"
     ]
    },
    {
     "name": "stderr",
     "output_type": "stream",
     "text": [
      "C:\\Users\\mi83\\Anaconda3\\lib\\site-packages\\urllib3\\connectionpool.py:1045: InsecureRequestWarning: Unverified HTTPS request is being made to host 'www.lotto-8.com'. Adding certificate verification is strongly advised. See: https://urllib3.readthedocs.io/en/1.26.x/advanced-usage.html#ssl-warnings\n",
      "  warnings.warn(\n"
     ]
    },
    {
     "name": "stdout",
     "output_type": "stream",
     "text": [
      "已取得第 43 頁資料...\n"
     ]
    },
    {
     "name": "stderr",
     "output_type": "stream",
     "text": [
      "C:\\Users\\mi83\\Anaconda3\\lib\\site-packages\\urllib3\\connectionpool.py:1045: InsecureRequestWarning: Unverified HTTPS request is being made to host 'www.lotto-8.com'. Adding certificate verification is strongly advised. See: https://urllib3.readthedocs.io/en/1.26.x/advanced-usage.html#ssl-warnings\n",
      "  warnings.warn(\n"
     ]
    },
    {
     "name": "stdout",
     "output_type": "stream",
     "text": [
      "已取得第 44 頁資料...\n"
     ]
    },
    {
     "name": "stderr",
     "output_type": "stream",
     "text": [
      "C:\\Users\\mi83\\Anaconda3\\lib\\site-packages\\urllib3\\connectionpool.py:1045: InsecureRequestWarning: Unverified HTTPS request is being made to host 'www.lotto-8.com'. Adding certificate verification is strongly advised. See: https://urllib3.readthedocs.io/en/1.26.x/advanced-usage.html#ssl-warnings\n",
      "  warnings.warn(\n"
     ]
    },
    {
     "name": "stdout",
     "output_type": "stream",
     "text": [
      "已取得第 45 頁資料...\n"
     ]
    },
    {
     "name": "stderr",
     "output_type": "stream",
     "text": [
      "C:\\Users\\mi83\\Anaconda3\\lib\\site-packages\\urllib3\\connectionpool.py:1045: InsecureRequestWarning: Unverified HTTPS request is being made to host 'www.lotto-8.com'. Adding certificate verification is strongly advised. See: https://urllib3.readthedocs.io/en/1.26.x/advanced-usage.html#ssl-warnings\n",
      "  warnings.warn(\n"
     ]
    },
    {
     "name": "stdout",
     "output_type": "stream",
     "text": [
      "已取得第 46 頁資料...\n"
     ]
    },
    {
     "name": "stderr",
     "output_type": "stream",
     "text": [
      "C:\\Users\\mi83\\Anaconda3\\lib\\site-packages\\urllib3\\connectionpool.py:1045: InsecureRequestWarning: Unverified HTTPS request is being made to host 'www.lotto-8.com'. Adding certificate verification is strongly advised. See: https://urllib3.readthedocs.io/en/1.26.x/advanced-usage.html#ssl-warnings\n",
      "  warnings.warn(\n"
     ]
    },
    {
     "name": "stdout",
     "output_type": "stream",
     "text": [
      "已取得第 47 頁資料...\n"
     ]
    },
    {
     "name": "stderr",
     "output_type": "stream",
     "text": [
      "C:\\Users\\mi83\\Anaconda3\\lib\\site-packages\\urllib3\\connectionpool.py:1045: InsecureRequestWarning: Unverified HTTPS request is being made to host 'www.lotto-8.com'. Adding certificate verification is strongly advised. See: https://urllib3.readthedocs.io/en/1.26.x/advanced-usage.html#ssl-warnings\n",
      "  warnings.warn(\n"
     ]
    },
    {
     "name": "stdout",
     "output_type": "stream",
     "text": [
      "已取得第 48 頁資料...\n"
     ]
    },
    {
     "name": "stderr",
     "output_type": "stream",
     "text": [
      "C:\\Users\\mi83\\Anaconda3\\lib\\site-packages\\urllib3\\connectionpool.py:1045: InsecureRequestWarning: Unverified HTTPS request is being made to host 'www.lotto-8.com'. Adding certificate verification is strongly advised. See: https://urllib3.readthedocs.io/en/1.26.x/advanced-usage.html#ssl-warnings\n",
      "  warnings.warn(\n"
     ]
    },
    {
     "name": "stdout",
     "output_type": "stream",
     "text": [
      "已取得第 49 頁資料...\n"
     ]
    },
    {
     "name": "stderr",
     "output_type": "stream",
     "text": [
      "C:\\Users\\mi83\\Anaconda3\\lib\\site-packages\\urllib3\\connectionpool.py:1045: InsecureRequestWarning: Unverified HTTPS request is being made to host 'www.lotto-8.com'. Adding certificate verification is strongly advised. See: https://urllib3.readthedocs.io/en/1.26.x/advanced-usage.html#ssl-warnings\n",
      "  warnings.warn(\n"
     ]
    },
    {
     "name": "stdout",
     "output_type": "stream",
     "text": [
      "已取得第 50 頁資料...\n"
     ]
    },
    {
     "name": "stderr",
     "output_type": "stream",
     "text": [
      "C:\\Users\\mi83\\Anaconda3\\lib\\site-packages\\urllib3\\connectionpool.py:1045: InsecureRequestWarning: Unverified HTTPS request is being made to host 'www.lotto-8.com'. Adding certificate verification is strongly advised. See: https://urllib3.readthedocs.io/en/1.26.x/advanced-usage.html#ssl-warnings\n",
      "  warnings.warn(\n"
     ]
    },
    {
     "name": "stdout",
     "output_type": "stream",
     "text": [
      "已取得第 51 頁資料...\n"
     ]
    },
    {
     "name": "stderr",
     "output_type": "stream",
     "text": [
      "C:\\Users\\mi83\\Anaconda3\\lib\\site-packages\\urllib3\\connectionpool.py:1045: InsecureRequestWarning: Unverified HTTPS request is being made to host 'www.lotto-8.com'. Adding certificate verification is strongly advised. See: https://urllib3.readthedocs.io/en/1.26.x/advanced-usage.html#ssl-warnings\n",
      "  warnings.warn(\n"
     ]
    },
    {
     "name": "stdout",
     "output_type": "stream",
     "text": [
      "已取得第 52 頁資料...\n"
     ]
    },
    {
     "name": "stderr",
     "output_type": "stream",
     "text": [
      "C:\\Users\\mi83\\Anaconda3\\lib\\site-packages\\urllib3\\connectionpool.py:1045: InsecureRequestWarning: Unverified HTTPS request is being made to host 'www.lotto-8.com'. Adding certificate verification is strongly advised. See: https://urllib3.readthedocs.io/en/1.26.x/advanced-usage.html#ssl-warnings\n",
      "  warnings.warn(\n"
     ]
    },
    {
     "name": "stdout",
     "output_type": "stream",
     "text": [
      "已取得第 53 頁資料...\n"
     ]
    },
    {
     "name": "stderr",
     "output_type": "stream",
     "text": [
      "C:\\Users\\mi83\\Anaconda3\\lib\\site-packages\\urllib3\\connectionpool.py:1045: InsecureRequestWarning: Unverified HTTPS request is being made to host 'www.lotto-8.com'. Adding certificate verification is strongly advised. See: https://urllib3.readthedocs.io/en/1.26.x/advanced-usage.html#ssl-warnings\n",
      "  warnings.warn(\n"
     ]
    },
    {
     "name": "stdout",
     "output_type": "stream",
     "text": [
      "已取得第 54 頁資料...\n"
     ]
    },
    {
     "name": "stderr",
     "output_type": "stream",
     "text": [
      "C:\\Users\\mi83\\Anaconda3\\lib\\site-packages\\urllib3\\connectionpool.py:1045: InsecureRequestWarning: Unverified HTTPS request is being made to host 'www.lotto-8.com'. Adding certificate verification is strongly advised. See: https://urllib3.readthedocs.io/en/1.26.x/advanced-usage.html#ssl-warnings\n",
      "  warnings.warn(\n"
     ]
    },
    {
     "name": "stdout",
     "output_type": "stream",
     "text": [
      "已取得第 55 頁資料...\n"
     ]
    },
    {
     "name": "stderr",
     "output_type": "stream",
     "text": [
      "C:\\Users\\mi83\\Anaconda3\\lib\\site-packages\\urllib3\\connectionpool.py:1045: InsecureRequestWarning: Unverified HTTPS request is being made to host 'www.lotto-8.com'. Adding certificate verification is strongly advised. See: https://urllib3.readthedocs.io/en/1.26.x/advanced-usage.html#ssl-warnings\n",
      "  warnings.warn(\n"
     ]
    },
    {
     "name": "stdout",
     "output_type": "stream",
     "text": [
      "已取得第 56 頁資料...\n"
     ]
    },
    {
     "name": "stderr",
     "output_type": "stream",
     "text": [
      "C:\\Users\\mi83\\Anaconda3\\lib\\site-packages\\urllib3\\connectionpool.py:1045: InsecureRequestWarning: Unverified HTTPS request is being made to host 'www.lotto-8.com'. Adding certificate verification is strongly advised. See: https://urllib3.readthedocs.io/en/1.26.x/advanced-usage.html#ssl-warnings\n",
      "  warnings.warn(\n"
     ]
    },
    {
     "name": "stdout",
     "output_type": "stream",
     "text": [
      "已取得第 57 頁資料...\n"
     ]
    },
    {
     "name": "stderr",
     "output_type": "stream",
     "text": [
      "C:\\Users\\mi83\\Anaconda3\\lib\\site-packages\\urllib3\\connectionpool.py:1045: InsecureRequestWarning: Unverified HTTPS request is being made to host 'www.lotto-8.com'. Adding certificate verification is strongly advised. See: https://urllib3.readthedocs.io/en/1.26.x/advanced-usage.html#ssl-warnings\n",
      "  warnings.warn(\n"
     ]
    },
    {
     "name": "stdout",
     "output_type": "stream",
     "text": [
      "已取得第 58 頁資料...\n"
     ]
    },
    {
     "name": "stderr",
     "output_type": "stream",
     "text": [
      "C:\\Users\\mi83\\Anaconda3\\lib\\site-packages\\urllib3\\connectionpool.py:1045: InsecureRequestWarning: Unverified HTTPS request is being made to host 'www.lotto-8.com'. Adding certificate verification is strongly advised. See: https://urllib3.readthedocs.io/en/1.26.x/advanced-usage.html#ssl-warnings\n",
      "  warnings.warn(\n"
     ]
    },
    {
     "name": "stdout",
     "output_type": "stream",
     "text": [
      "已取得第 59 頁資料...\n"
     ]
    },
    {
     "name": "stderr",
     "output_type": "stream",
     "text": [
      "C:\\Users\\mi83\\Anaconda3\\lib\\site-packages\\urllib3\\connectionpool.py:1045: InsecureRequestWarning: Unverified HTTPS request is being made to host 'www.lotto-8.com'. Adding certificate verification is strongly advised. See: https://urllib3.readthedocs.io/en/1.26.x/advanced-usage.html#ssl-warnings\n",
      "  warnings.warn(\n"
     ]
    },
    {
     "name": "stdout",
     "output_type": "stream",
     "text": [
      "已取得第 60 頁資料...\n"
     ]
    },
    {
     "name": "stderr",
     "output_type": "stream",
     "text": [
      "C:\\Users\\mi83\\Anaconda3\\lib\\site-packages\\urllib3\\connectionpool.py:1045: InsecureRequestWarning: Unverified HTTPS request is being made to host 'www.lotto-8.com'. Adding certificate verification is strongly advised. See: https://urllib3.readthedocs.io/en/1.26.x/advanced-usage.html#ssl-warnings\n",
      "  warnings.warn(\n"
     ]
    },
    {
     "name": "stdout",
     "output_type": "stream",
     "text": [
      "已取得第 61 頁資料...\n"
     ]
    },
    {
     "name": "stderr",
     "output_type": "stream",
     "text": [
      "C:\\Users\\mi83\\Anaconda3\\lib\\site-packages\\urllib3\\connectionpool.py:1045: InsecureRequestWarning: Unverified HTTPS request is being made to host 'www.lotto-8.com'. Adding certificate verification is strongly advised. See: https://urllib3.readthedocs.io/en/1.26.x/advanced-usage.html#ssl-warnings\n",
      "  warnings.warn(\n"
     ]
    },
    {
     "name": "stdout",
     "output_type": "stream",
     "text": [
      "已取得第 62 頁資料...\n"
     ]
    },
    {
     "name": "stderr",
     "output_type": "stream",
     "text": [
      "C:\\Users\\mi83\\Anaconda3\\lib\\site-packages\\urllib3\\connectionpool.py:1045: InsecureRequestWarning: Unverified HTTPS request is being made to host 'www.lotto-8.com'. Adding certificate verification is strongly advised. See: https://urllib3.readthedocs.io/en/1.26.x/advanced-usage.html#ssl-warnings\n",
      "  warnings.warn(\n"
     ]
    },
    {
     "name": "stdout",
     "output_type": "stream",
     "text": [
      "已取得第 63 頁資料...\n"
     ]
    },
    {
     "name": "stderr",
     "output_type": "stream",
     "text": [
      "C:\\Users\\mi83\\Anaconda3\\lib\\site-packages\\urllib3\\connectionpool.py:1045: InsecureRequestWarning: Unverified HTTPS request is being made to host 'www.lotto-8.com'. Adding certificate verification is strongly advised. See: https://urllib3.readthedocs.io/en/1.26.x/advanced-usage.html#ssl-warnings\n",
      "  warnings.warn(\n"
     ]
    },
    {
     "name": "stdout",
     "output_type": "stream",
     "text": [
      "已取得第 64 頁資料...\n"
     ]
    },
    {
     "name": "stderr",
     "output_type": "stream",
     "text": [
      "C:\\Users\\mi83\\Anaconda3\\lib\\site-packages\\urllib3\\connectionpool.py:1045: InsecureRequestWarning: Unverified HTTPS request is being made to host 'www.lotto-8.com'. Adding certificate verification is strongly advised. See: https://urllib3.readthedocs.io/en/1.26.x/advanced-usage.html#ssl-warnings\n",
      "  warnings.warn(\n"
     ]
    },
    {
     "name": "stdout",
     "output_type": "stream",
     "text": [
      "已取得第 65 頁資料...\n"
     ]
    },
    {
     "name": "stderr",
     "output_type": "stream",
     "text": [
      "C:\\Users\\mi83\\Anaconda3\\lib\\site-packages\\urllib3\\connectionpool.py:1045: InsecureRequestWarning: Unverified HTTPS request is being made to host 'www.lotto-8.com'. Adding certificate verification is strongly advised. See: https://urllib3.readthedocs.io/en/1.26.x/advanced-usage.html#ssl-warnings\n",
      "  warnings.warn(\n"
     ]
    },
    {
     "name": "stdout",
     "output_type": "stream",
     "text": [
      "已取得第 66 頁資料...\n"
     ]
    },
    {
     "name": "stderr",
     "output_type": "stream",
     "text": [
      "C:\\Users\\mi83\\Anaconda3\\lib\\site-packages\\urllib3\\connectionpool.py:1045: InsecureRequestWarning: Unverified HTTPS request is being made to host 'www.lotto-8.com'. Adding certificate verification is strongly advised. See: https://urllib3.readthedocs.io/en/1.26.x/advanced-usage.html#ssl-warnings\n",
      "  warnings.warn(\n"
     ]
    },
    {
     "name": "stdout",
     "output_type": "stream",
     "text": [
      "已取得第 67 頁資料...\n"
     ]
    },
    {
     "name": "stderr",
     "output_type": "stream",
     "text": [
      "C:\\Users\\mi83\\Anaconda3\\lib\\site-packages\\urllib3\\connectionpool.py:1045: InsecureRequestWarning: Unverified HTTPS request is being made to host 'www.lotto-8.com'. Adding certificate verification is strongly advised. See: https://urllib3.readthedocs.io/en/1.26.x/advanced-usage.html#ssl-warnings\n",
      "  warnings.warn(\n"
     ]
    },
    {
     "name": "stdout",
     "output_type": "stream",
     "text": [
      "已取得第 68 頁資料...\n"
     ]
    },
    {
     "name": "stderr",
     "output_type": "stream",
     "text": [
      "C:\\Users\\mi83\\Anaconda3\\lib\\site-packages\\urllib3\\connectionpool.py:1045: InsecureRequestWarning: Unverified HTTPS request is being made to host 'www.lotto-8.com'. Adding certificate verification is strongly advised. See: https://urllib3.readthedocs.io/en/1.26.x/advanced-usage.html#ssl-warnings\n",
      "  warnings.warn(\n"
     ]
    },
    {
     "name": "stdout",
     "output_type": "stream",
     "text": [
      "已取得第 69 頁資料...\n",
      "已取得第 70 頁資料...\n",
      "所有歷史資料已取得!\n",
      "資料總筆數:  2079\n"
     ]
    },
    {
     "name": "stderr",
     "output_type": "stream",
     "text": [
      "C:\\Users\\mi83\\Anaconda3\\lib\\site-packages\\urllib3\\connectionpool.py:1045: InsecureRequestWarning: Unverified HTTPS request is being made to host 'www.lotto-8.com'. Adding certificate verification is strongly advised. See: https://urllib3.readthedocs.io/en/1.26.x/advanced-usage.html#ssl-warnings\n",
      "  warnings.warn(\n"
     ]
    },
    {
     "data": {
      "text/html": [
       "<div>\n",
       "<style scoped>\n",
       "    .dataframe tbody tr th:only-of-type {\n",
       "        vertical-align: middle;\n",
       "    }\n",
       "\n",
       "    .dataframe tbody tr th {\n",
       "        vertical-align: top;\n",
       "    }\n",
       "\n",
       "    .dataframe thead th {\n",
       "        text-align: right;\n",
       "    }\n",
       "</style>\n",
       "<table border=\"1\" class=\"dataframe\">\n",
       "  <thead>\n",
       "    <tr style=\"text-align: right;\">\n",
       "      <th></th>\n",
       "      <th>date</th>\n",
       "      <th>num1</th>\n",
       "      <th>num2</th>\n",
       "      <th>num3</th>\n",
       "      <th>num4</th>\n",
       "      <th>num5</th>\n",
       "      <th>num6</th>\n",
       "      <th>special</th>\n",
       "    </tr>\n",
       "  </thead>\n",
       "  <tbody>\n",
       "    <tr>\n",
       "      <th>0</th>\n",
       "      <td>2004/01/05</td>\n",
       "      <td>06</td>\n",
       "      <td>09</td>\n",
       "      <td>12</td>\n",
       "      <td>13</td>\n",
       "      <td>33</td>\n",
       "      <td>39</td>\n",
       "      <td>21</td>\n",
       "    </tr>\n",
       "    <tr>\n",
       "      <th>1</th>\n",
       "      <td>2004/01/08</td>\n",
       "      <td>16</td>\n",
       "      <td>21</td>\n",
       "      <td>27</td>\n",
       "      <td>30</td>\n",
       "      <td>31</td>\n",
       "      <td>47</td>\n",
       "      <td>35</td>\n",
       "    </tr>\n",
       "    <tr>\n",
       "      <th>2</th>\n",
       "      <td>2004/01/12</td>\n",
       "      <td>02</td>\n",
       "      <td>04</td>\n",
       "      <td>25</td>\n",
       "      <td>26</td>\n",
       "      <td>34</td>\n",
       "      <td>43</td>\n",
       "      <td>41</td>\n",
       "    </tr>\n",
       "    <tr>\n",
       "      <th>3</th>\n",
       "      <td>2004/01/15</td>\n",
       "      <td>18</td>\n",
       "      <td>19</td>\n",
       "      <td>28</td>\n",
       "      <td>29</td>\n",
       "      <td>30</td>\n",
       "      <td>34</td>\n",
       "      <td>12</td>\n",
       "    </tr>\n",
       "    <tr>\n",
       "      <th>4</th>\n",
       "      <td>2004/01/19</td>\n",
       "      <td>14</td>\n",
       "      <td>15</td>\n",
       "      <td>20</td>\n",
       "      <td>29</td>\n",
       "      <td>32</td>\n",
       "      <td>39</td>\n",
       "      <td>43</td>\n",
       "    </tr>\n",
       "    <tr>\n",
       "      <th>...</th>\n",
       "      <td>...</td>\n",
       "      <td>...</td>\n",
       "      <td>...</td>\n",
       "      <td>...</td>\n",
       "      <td>...</td>\n",
       "      <td>...</td>\n",
       "      <td>...</td>\n",
       "      <td>...</td>\n",
       "    </tr>\n",
       "    <tr>\n",
       "      <th>2074</th>\n",
       "      <td>2023/03/14</td>\n",
       "      <td>03</td>\n",
       "      <td>04</td>\n",
       "      <td>11</td>\n",
       "      <td>12</td>\n",
       "      <td>20</td>\n",
       "      <td>37</td>\n",
       "      <td>05</td>\n",
       "    </tr>\n",
       "    <tr>\n",
       "      <th>2075</th>\n",
       "      <td>2023/03/17</td>\n",
       "      <td>06</td>\n",
       "      <td>07</td>\n",
       "      <td>10</td>\n",
       "      <td>24</td>\n",
       "      <td>29</td>\n",
       "      <td>40</td>\n",
       "      <td>16</td>\n",
       "    </tr>\n",
       "    <tr>\n",
       "      <th>2076</th>\n",
       "      <td>2023/03/21</td>\n",
       "      <td>03</td>\n",
       "      <td>11</td>\n",
       "      <td>20</td>\n",
       "      <td>30</td>\n",
       "      <td>41</td>\n",
       "      <td>45</td>\n",
       "      <td>28</td>\n",
       "    </tr>\n",
       "    <tr>\n",
       "      <th>2077</th>\n",
       "      <td>2023/03/24</td>\n",
       "      <td>02</td>\n",
       "      <td>14</td>\n",
       "      <td>26</td>\n",
       "      <td>34</td>\n",
       "      <td>40</td>\n",
       "      <td>46</td>\n",
       "      <td>13</td>\n",
       "    </tr>\n",
       "    <tr>\n",
       "      <th>2078</th>\n",
       "      <td>2023/03/28</td>\n",
       "      <td>03</td>\n",
       "      <td>10</td>\n",
       "      <td>26</td>\n",
       "      <td>35</td>\n",
       "      <td>37</td>\n",
       "      <td>44</td>\n",
       "      <td>15</td>\n",
       "    </tr>\n",
       "  </tbody>\n",
       "</table>\n",
       "<p>2079 rows × 8 columns</p>\n",
       "</div>"
      ],
      "text/plain": [
       "            date num1 num2 num3 num4 num5 num6 special\n",
       "0     2004/01/05   06   09   12   13   33   39      21\n",
       "1     2004/01/08   16   21   27   30   31   47      35\n",
       "2     2004/01/12   02   04   25   26   34   43      41\n",
       "3     2004/01/15   18   19   28   29   30   34      12\n",
       "4     2004/01/19   14   15   20   29   32   39      43\n",
       "...          ...  ...  ...  ...  ...  ...  ...     ...\n",
       "2074  2023/03/14   03   04   11   12   20   37      05\n",
       "2075  2023/03/17   06   07   10   24   29   40      16\n",
       "2076  2023/03/21   03   11   20   30   41   45      28\n",
       "2077  2023/03/24   02   14   26   34   40   46      13\n",
       "2078  2023/03/28   03   10   26   35   37   44      15\n",
       "\n",
       "[2079 rows x 8 columns]"
      ]
     },
     "execution_count": 5,
     "metadata": {},
     "output_type": "execute_result"
    }
   ],
   "source": [
    "#從網路爬下所有樂透開獎組合\n",
    "import requests as rq\n",
    "from bs4 import BeautifulSoup as BS\n",
    "import time\n",
    "import random\n",
    "\n",
    "import pandas as pd\n",
    "\n",
    "\n",
    "#大樂透歷史資料\n",
    "#url中，修改indexpage的數值即可\n",
    "url_prev = 'https://www.lotto-8.com/Taiwan/listltobig.asp?indexpage='\n",
    "url_post = '&orderby=old'\n",
    "#url = 'https://www.lotto-8.com/Taiwan/listltobig.asp?indexpage=1&orderby=old'\n",
    "\n",
    "#user-agent定義，防止爬蟲被擋\n",
    "user_agent = \"Mozilla/5.0 (Windows NT 10.0; Win64; x64) AppleWebKit/537.36 (KHTML, like Gecko) Chrome/110.0.0.0 Safari/537.36\"\n",
    "headers = {'user-agent': user_agent}\n",
    "\n",
    "\n",
    "#變數\n",
    "data = []\n",
    "columns = ['date','num1','num2','num3','num4','num5','num6','special']\n",
    "\n",
    "\n",
    "#爬資料\n",
    "print('開始連線')\n",
    "#rnd_num1 = random.random() + 1\n",
    "#browser = webdriver.Edge(r'msedgedriver.exe')\n",
    "#time.sleep(rnd_num1)  #單位:sec\n",
    "\n",
    "#針對每一頁的內容作爬蟲\n",
    "for i in range(70):\n",
    "    url = url_prev + str(i+1) + url_post  #若數字超過總頁數，會顯示包含最新資訊的頁面；若是非數值，則會出現'500-內部伺服器錯誤'；若是沒有東西，則顯示最舊的資訊\n",
    "    #requests.get(url)  \n",
    "    #browser.refresh()\n",
    "    rnd_num2 = random.random() + 2\n",
    "    time.sleep(rnd_num2)  #單位:sec\n",
    "    \n",
    "    res = rq.get(url, headers=headers, verify=False)\n",
    "    res.encoding = 'utf-8'\n",
    "    soup = BS(res.text, 'html.parser')\n",
    "    #print(soup)\n",
    "    \n",
    "    table = soup.find('table', id='ltotable')\n",
    "    #print(type(table))\n",
    "    trs = table.find_all('tr')[1:]\n",
    "    #print(type(trs))\n",
    "    for tr in trs:\n",
    "        tds = tr.find_all('td')\n",
    "        date = tds[0].text\n",
    "        numbers = tds[1].text.replace('\\r\\n','').replace('\\xa0','').strip().split(',')\n",
    "        special = tds[2].text\n",
    "        tmp_data = [date, *numbers, special]  #*variable: 將variable解構(decompose)，類似javascript的\"...variable\"\n",
    "        data.append(tmp_data)\n",
    "        \n",
    "        #pass\n",
    "    print('已取得第',i+1,'頁資料...')\n",
    "    #print('===========================')\n",
    "print('所有歷史資料已取得!')\n",
    "print('資料總筆數: ', len(data))\n",
    "#print(data)\n",
    "\n",
    "\n",
    "#將資料寫入dataframe中\n",
    "result = pd.DataFrame(data = data, columns = columns)\n",
    "result\n"
   ]
  },
  {
   "cell_type": "code",
   "execution_count": 6,
   "id": "cb2690ba",
   "metadata": {},
   "outputs": [],
   "source": [
    "# 將樂透歷史紀錄匯出成excel檔\n",
    "result.to_excel('./lottery_his.xlsx')"
   ]
  },
  {
   "cell_type": "markdown",
   "id": "0912e4d0",
   "metadata": {},
   "source": [
    "# 大樂透分析 __ 找出association rule\n",
    "利用Arpiori algorithm來分析樂透開獎紀錄，看能否找出號碼之間的關聯"
   ]
  },
  {
   "cell_type": "code",
   "execution_count": 30,
   "id": "e1a2413f",
   "metadata": {},
   "outputs": [
    {
     "name": "stdout",
     "output_type": "stream",
     "text": [
      "      num1  num2  num3  num4  num5  num6  special\n",
      "0        6     9    12    13    33    39       21\n",
      "1       16    21    27    30    31    47       35\n",
      "2        2     4    25    26    34    43       41\n",
      "3       18    19    28    29    30    34       12\n",
      "4       14    15    20    29    32    39       43\n",
      "...    ...   ...   ...   ...   ...   ...      ...\n",
      "2074     3     4    11    12    20    37        5\n",
      "2075     6     7    10    24    29    40       16\n",
      "2076     3    11    20    30    41    45       28\n",
      "2077     2    14    26    34    40    46       13\n",
      "2078     3    10    26    35    37    44       15\n",
      "\n",
      "[2079 rows x 7 columns]\n",
      "參數設定完成。support = 0.01, confidence = 0.01\n",
      "support:  0.01\n",
      "confidence:  0.01\n",
      "size:  2\n",
      "itemset_dict:  {}\n",
      "frequent_itemset_list:  []\n",
      "開始執行apriori algorithm ...\n",
      "Frequent itemset建立完成 ...\n",
      "過濾掉小於confidence值的組合 ...\n",
      "apriori algorithm執行完成!\n"
     ]
    },
    {
     "data": {
      "text/html": [
       "<div>\n",
       "<style scoped>\n",
       "    .dataframe tbody tr th:only-of-type {\n",
       "        vertical-align: middle;\n",
       "    }\n",
       "\n",
       "    .dataframe tbody tr th {\n",
       "        vertical-align: top;\n",
       "    }\n",
       "\n",
       "    .dataframe thead th {\n",
       "        text-align: right;\n",
       "    }\n",
       "</style>\n",
       "<table border=\"1\" class=\"dataframe\">\n",
       "  <thead>\n",
       "    <tr style=\"text-align: right;\">\n",
       "      <th></th>\n",
       "      <th>frequent itemset</th>\n",
       "      <th>support</th>\n",
       "      <th>antecedent</th>\n",
       "      <th>consequent</th>\n",
       "      <th>confidence</th>\n",
       "      <th>lift</th>\n",
       "    </tr>\n",
       "  </thead>\n",
       "  <tbody>\n",
       "    <tr>\n",
       "      <th>0</th>\n",
       "      <td>(33, 6)</td>\n",
       "      <td>0.016835</td>\n",
       "      <td>(33,)</td>\n",
       "      <td>(6,)</td>\n",
       "      <td>0.124113</td>\n",
       "      <td>0.945172</td>\n",
       "    </tr>\n",
       "    <tr>\n",
       "      <th>1</th>\n",
       "      <td>(33, 6)</td>\n",
       "      <td>0.016835</td>\n",
       "      <td>(6,)</td>\n",
       "      <td>(33,)</td>\n",
       "      <td>0.128205</td>\n",
       "      <td>0.945172</td>\n",
       "    </tr>\n",
       "    <tr>\n",
       "      <th>2</th>\n",
       "      <td>(9, 39)</td>\n",
       "      <td>0.014430</td>\n",
       "      <td>(9,)</td>\n",
       "      <td>(39,)</td>\n",
       "      <td>0.106383</td>\n",
       "      <td>0.752280</td>\n",
       "    </tr>\n",
       "    <tr>\n",
       "      <th>3</th>\n",
       "      <td>(9, 39)</td>\n",
       "      <td>0.014430</td>\n",
       "      <td>(39,)</td>\n",
       "      <td>(9,)</td>\n",
       "      <td>0.102041</td>\n",
       "      <td>0.752280</td>\n",
       "    </tr>\n",
       "    <tr>\n",
       "      <th>4</th>\n",
       "      <td>(21, 13)</td>\n",
       "      <td>0.019721</td>\n",
       "      <td>(21,)</td>\n",
       "      <td>(13,)</td>\n",
       "      <td>0.135314</td>\n",
       "      <td>0.944016</td>\n",
       "    </tr>\n",
       "    <tr>\n",
       "      <th>...</th>\n",
       "      <td>...</td>\n",
       "      <td>...</td>\n",
       "      <td>...</td>\n",
       "      <td>...</td>\n",
       "      <td>...</td>\n",
       "      <td>...</td>\n",
       "    </tr>\n",
       "    <tr>\n",
       "      <th>2341</th>\n",
       "      <td>(27, 29)</td>\n",
       "      <td>0.012025</td>\n",
       "      <td>(29,)</td>\n",
       "      <td>(27,)</td>\n",
       "      <td>0.084459</td>\n",
       "      <td>0.616110</td>\n",
       "    </tr>\n",
       "    <tr>\n",
       "      <th>2342</th>\n",
       "      <td>(32, 40)</td>\n",
       "      <td>0.014911</td>\n",
       "      <td>(32,)</td>\n",
       "      <td>(40,)</td>\n",
       "      <td>0.106897</td>\n",
       "      <td>0.790882</td>\n",
       "    </tr>\n",
       "    <tr>\n",
       "      <th>2343</th>\n",
       "      <td>(32, 40)</td>\n",
       "      <td>0.014911</td>\n",
       "      <td>(40,)</td>\n",
       "      <td>(32,)</td>\n",
       "      <td>0.110320</td>\n",
       "      <td>0.790882</td>\n",
       "    </tr>\n",
       "    <tr>\n",
       "      <th>2344</th>\n",
       "      <td>(24, 29)</td>\n",
       "      <td>0.014911</td>\n",
       "      <td>(24,)</td>\n",
       "      <td>(29,)</td>\n",
       "      <td>0.109541</td>\n",
       "      <td>0.769375</td>\n",
       "    </tr>\n",
       "    <tr>\n",
       "      <th>2345</th>\n",
       "      <td>(24, 29)</td>\n",
       "      <td>0.014911</td>\n",
       "      <td>(29,)</td>\n",
       "      <td>(24,)</td>\n",
       "      <td>0.104730</td>\n",
       "      <td>0.769375</td>\n",
       "    </tr>\n",
       "  </tbody>\n",
       "</table>\n",
       "<p>2346 rows × 6 columns</p>\n",
       "</div>"
      ],
      "text/plain": [
       "     frequent itemset   support antecedent consequent  confidence      lift\n",
       "0             (33, 6)  0.016835      (33,)       (6,)    0.124113  0.945172\n",
       "1             (33, 6)  0.016835       (6,)      (33,)    0.128205  0.945172\n",
       "2             (9, 39)  0.014430       (9,)      (39,)    0.106383  0.752280\n",
       "3             (9, 39)  0.014430      (39,)       (9,)    0.102041  0.752280\n",
       "4            (21, 13)  0.019721      (21,)      (13,)    0.135314  0.944016\n",
       "...               ...       ...        ...        ...         ...       ...\n",
       "2341         (27, 29)  0.012025      (29,)      (27,)    0.084459  0.616110\n",
       "2342         (32, 40)  0.014911      (32,)      (40,)    0.106897  0.790882\n",
       "2343         (32, 40)  0.014911      (40,)      (32,)    0.110320  0.790882\n",
       "2344         (24, 29)  0.014911      (24,)      (29,)    0.109541  0.769375\n",
       "2345         (24, 29)  0.014911      (29,)      (24,)    0.104730  0.769375\n",
       "\n",
       "[2346 rows x 6 columns]"
      ]
     },
     "execution_count": 30,
     "metadata": {},
     "output_type": "execute_result"
    }
   ],
   "source": [
    "import Apriori as ap\n",
    "#association = ap.apriori(result)\n",
    "\n",
    "#匯入大樂透歷史資料，並留下必要資訊後，做apriori algorithm\n",
    "history = pd.read_excel('lottery_his.xlsx', sheet_name = 'Sheet1')\n",
    "#history\n",
    "history_clr = history.drop(['row','date'], axis = 1) #association\n",
    "print(history_clr)\n",
    "\n",
    "\n",
    "ap.clear_param()\n",
    "ap.set_param(0.01, 0.01)\n",
    "ap.show_param()\n",
    "association = ap.apriori(history_clr)\n",
    "association"
   ]
  },
  {
   "cell_type": "code",
   "execution_count": 39,
   "id": "9f87cb3c",
   "metadata": {},
   "outputs": [],
   "source": [
    "#匯出成excel檔\n",
    "writer = pd.ExcelWriter('./lottery_analysis.xlsx', engine = 'xlsxwriter')\n",
    "association.to_excel(writer, sheet_name = 'association rule analysis')\n",
    "history.to_excel(writer, sheet_name = 'lottery records')\n",
    "writer.close()"
   ]
  },
  {
   "cell_type": "code",
   "execution_count": 27,
   "id": "3f781760",
   "metadata": {},
   "outputs": [
    {
     "name": "stdout",
     "output_type": "stream",
     "text": [
      "       period       date  num_1  num_2  num_3  num_4  num_5  num_6  spec_num\n",
      "0   112000018  112/02/01     33     19      8      5     23     46        48\n",
      "1   112000019  112/02/02      8     31     45     13     21     19        37\n",
      "2   112000020  112/02/03     44     25     29     14      3     45        46\n",
      "3   112000021  112/02/04     22     20     14      2     21     49        38\n",
      "4   112000022  112/02/05     33      5     19     42     38     25        41\n",
      "5   112000023  112/02/07      8     28      3     18     47     11         5\n",
      "6   112000024  112/02/10     24      7     46     28     11     33         3\n",
      "7   112000025  112/02/14     30     31     23     11     22     49        14\n",
      "8   112000026  112/02/17      9      7     14     16     33     26        27\n",
      "9   112000027  112/02/21     11     46      6      5     26      1        41\n",
      "10  112000028  112/02/24     48     39     15     40     38     45         2\n",
      "11  112000029  112/02/28      2     35     11     26     27     25        10\n",
      "12   for test   for test      3     33      5     10     49     20         1\n",
      "13   for test   for test      3     33      5     10     49     20         1\n",
      "<class 'pandas.core.frame.DataFrame'>\n",
      "開始執行apriori algorithm ...\n",
      "Frequent itemset建立完成 ...\n",
      "過濾掉小於confidence值的組合 ...\n",
      "apriori algorithm執行完成!\n"
     ]
    },
    {
     "data": {
      "text/html": [
       "<div>\n",
       "<style scoped>\n",
       "    .dataframe tbody tr th:only-of-type {\n",
       "        vertical-align: middle;\n",
       "    }\n",
       "\n",
       "    .dataframe tbody tr th {\n",
       "        vertical-align: top;\n",
       "    }\n",
       "\n",
       "    .dataframe thead th {\n",
       "        text-align: right;\n",
       "    }\n",
       "</style>\n",
       "<table border=\"1\" class=\"dataframe\">\n",
       "  <thead>\n",
       "    <tr style=\"text-align: right;\">\n",
       "      <th></th>\n",
       "      <th>frequent itemset</th>\n",
       "      <th>support</th>\n",
       "      <th>antecedent</th>\n",
       "      <th>consequent</th>\n",
       "      <th>confidence</th>\n",
       "      <th>lift</th>\n",
       "    </tr>\n",
       "  </thead>\n",
       "  <tbody>\n",
       "    <tr>\n",
       "      <th>0</th>\n",
       "      <td>(33, 5, 8, 46, 48, 19, 23)</td>\n",
       "      <td>0.071429</td>\n",
       "      <td>(33,)</td>\n",
       "      <td>(5, 8, 46, 48, 19, 23)</td>\n",
       "      <td>0.166667</td>\n",
       "      <td>2.333333</td>\n",
       "    </tr>\n",
       "    <tr>\n",
       "      <th>1</th>\n",
       "      <td>(33, 5, 8, 46, 48, 19, 23)</td>\n",
       "      <td>0.071429</td>\n",
       "      <td>(5,)</td>\n",
       "      <td>(33, 8, 46, 48, 19, 23)</td>\n",
       "      <td>0.166667</td>\n",
       "      <td>2.333333</td>\n",
       "    </tr>\n",
       "    <tr>\n",
       "      <th>2</th>\n",
       "      <td>(33, 5, 8, 46, 48, 19, 23)</td>\n",
       "      <td>0.071429</td>\n",
       "      <td>(8,)</td>\n",
       "      <td>(33, 5, 46, 48, 19, 23)</td>\n",
       "      <td>0.333333</td>\n",
       "      <td>4.666667</td>\n",
       "    </tr>\n",
       "    <tr>\n",
       "      <th>3</th>\n",
       "      <td>(33, 5, 8, 46, 48, 19, 23)</td>\n",
       "      <td>0.071429</td>\n",
       "      <td>(46,)</td>\n",
       "      <td>(33, 5, 8, 48, 19, 23)</td>\n",
       "      <td>0.250000</td>\n",
       "      <td>3.500000</td>\n",
       "    </tr>\n",
       "    <tr>\n",
       "      <th>4</th>\n",
       "      <td>(33, 5, 8, 46, 48, 19, 23)</td>\n",
       "      <td>0.071429</td>\n",
       "      <td>(48,)</td>\n",
       "      <td>(33, 5, 8, 46, 19, 23)</td>\n",
       "      <td>0.500000</td>\n",
       "      <td>7.000000</td>\n",
       "    </tr>\n",
       "    <tr>\n",
       "      <th>...</th>\n",
       "      <td>...</td>\n",
       "      <td>...</td>\n",
       "      <td>...</td>\n",
       "      <td>...</td>\n",
       "      <td>...</td>\n",
       "      <td>...</td>\n",
       "    </tr>\n",
       "    <tr>\n",
       "      <th>2011</th>\n",
       "      <td>(33, 1, 3, 5, 10, 49, 20)</td>\n",
       "      <td>0.142857</td>\n",
       "      <td>(33, 1, 3, 5, 49, 20)</td>\n",
       "      <td>(10,)</td>\n",
       "      <td>1.000000</td>\n",
       "      <td>4.666667</td>\n",
       "    </tr>\n",
       "    <tr>\n",
       "      <th>2012</th>\n",
       "      <td>(33, 1, 3, 5, 10, 49, 20)</td>\n",
       "      <td>0.142857</td>\n",
       "      <td>(33, 1, 3, 10, 49, 20)</td>\n",
       "      <td>(5,)</td>\n",
       "      <td>1.000000</td>\n",
       "      <td>2.333333</td>\n",
       "    </tr>\n",
       "    <tr>\n",
       "      <th>2013</th>\n",
       "      <td>(33, 1, 3, 5, 10, 49, 20)</td>\n",
       "      <td>0.142857</td>\n",
       "      <td>(33, 1, 5, 10, 49, 20)</td>\n",
       "      <td>(3,)</td>\n",
       "      <td>1.000000</td>\n",
       "      <td>2.800000</td>\n",
       "    </tr>\n",
       "    <tr>\n",
       "      <th>2014</th>\n",
       "      <td>(33, 1, 3, 5, 10, 49, 20)</td>\n",
       "      <td>0.142857</td>\n",
       "      <td>(33, 3, 5, 10, 49, 20)</td>\n",
       "      <td>(1,)</td>\n",
       "      <td>1.000000</td>\n",
       "      <td>4.666667</td>\n",
       "    </tr>\n",
       "    <tr>\n",
       "      <th>2015</th>\n",
       "      <td>(33, 1, 3, 5, 10, 49, 20)</td>\n",
       "      <td>0.142857</td>\n",
       "      <td>(1, 3, 5, 10, 49, 20)</td>\n",
       "      <td>(33,)</td>\n",
       "      <td>1.000000</td>\n",
       "      <td>2.333333</td>\n",
       "    </tr>\n",
       "  </tbody>\n",
       "</table>\n",
       "<p>2016 rows × 6 columns</p>\n",
       "</div>"
      ],
      "text/plain": [
       "                frequent itemset   support              antecedent  \\\n",
       "0     (33, 5, 8, 46, 48, 19, 23)  0.071429                   (33,)   \n",
       "1     (33, 5, 8, 46, 48, 19, 23)  0.071429                    (5,)   \n",
       "2     (33, 5, 8, 46, 48, 19, 23)  0.071429                    (8,)   \n",
       "3     (33, 5, 8, 46, 48, 19, 23)  0.071429                   (46,)   \n",
       "4     (33, 5, 8, 46, 48, 19, 23)  0.071429                   (48,)   \n",
       "...                          ...       ...                     ...   \n",
       "2011   (33, 1, 3, 5, 10, 49, 20)  0.142857   (33, 1, 3, 5, 49, 20)   \n",
       "2012   (33, 1, 3, 5, 10, 49, 20)  0.142857  (33, 1, 3, 10, 49, 20)   \n",
       "2013   (33, 1, 3, 5, 10, 49, 20)  0.142857  (33, 1, 5, 10, 49, 20)   \n",
       "2014   (33, 1, 3, 5, 10, 49, 20)  0.142857  (33, 3, 5, 10, 49, 20)   \n",
       "2015   (33, 1, 3, 5, 10, 49, 20)  0.142857   (1, 3, 5, 10, 49, 20)   \n",
       "\n",
       "                   consequent  confidence      lift  \n",
       "0      (5, 8, 46, 48, 19, 23)    0.166667  2.333333  \n",
       "1     (33, 8, 46, 48, 19, 23)    0.166667  2.333333  \n",
       "2     (33, 5, 46, 48, 19, 23)    0.333333  4.666667  \n",
       "3      (33, 5, 8, 48, 19, 23)    0.250000  3.500000  \n",
       "4      (33, 5, 8, 46, 19, 23)    0.500000  7.000000  \n",
       "...                       ...         ...       ...  \n",
       "2011                    (10,)    1.000000  4.666667  \n",
       "2012                     (5,)    1.000000  2.333333  \n",
       "2013                     (3,)    1.000000  2.800000  \n",
       "2014                     (1,)    1.000000  4.666667  \n",
       "2015                    (33,)    1.000000  2.333333  \n",
       "\n",
       "[2016 rows x 6 columns]"
      ]
     },
     "execution_count": 27,
     "metadata": {},
     "output_type": "execute_result"
    }
   ],
   "source": [
    "#分析大樂透association rule (for test)\n",
    "import pandas as pd\n",
    "import Apriori as ap\n",
    "\n",
    "#匯入xlsx檔\n",
    "df = pd.read_excel('lottery.xlsx', sheet_name= 'big_lottery')\n",
    "print(df)\n",
    "print(str(type(df)))\n",
    "\n",
    "\n",
    "#去掉不要的columns\n",
    "exclude_list = ['period','date']  #columns to exclude\n",
    "want_column = [column for column in df.columns.tolist() if column not in exclude_list]\n",
    "#print(want_column)\n",
    "df_pure = df[want_column]\n",
    "ap.apriori(df_pure)\n",
    "#print('呼叫Apriori執行結果: ', result)"
   ]
  },
  {
   "cell_type": "code",
   "execution_count": 34,
   "id": "f4b31755",
   "metadata": {},
   "outputs": [
    {
     "name": "stdout",
     "output_type": "stream",
     "text": [
      "support:  0.01\n",
      "confidence:  0.01\n",
      "size:  3\n",
      "itemset_dict:  {(33, 6): 35, (9, 39): 30, (21, 13): 41, (12, 39): 33, (9, 6): 30, (9, 33): 28, (12, 6): 37, (21, 39): 40, (33, 13): 45, (33, 12): 36, (33, 21): 32, (13, 39): 52, (21, 6): 32, (6, 39): 31, (9, 13): 42, (13, 6): 34, (9, 12): 37, (9, 21): 31, (12, 13): 28, (12, 21): 37, (33, 39): 33, (21, 31): 37, (35, 27): 33, (21, 30): 43, (35, 31): 36, (16, 27): 36, (16, 31): 35, (35, 21): 44, (35, 30): 38, (16, 35): 36, (27, 31): 41, (16, 21): 46, (16, 30): 40, (30, 31): 40, (27, 21): 37, (27, 30): 40, (21, 47): 25, (47, 31): 31, (35, 47): 39, (16, 47): 32, (27, 47): 27, (30, 47): 36, (25, 34): 32, (25, 43): 39, (2, 26): 56, (41, 4): 47, (26, 34): 35, (26, 43): 41, (34, 43): 43, (25, 41): 39, (41, 26): 38, (2, 34): 36, (2, 43): 51, (25, 4): 32, (26, 4): 38, (25, 26): 41, (34, 4): 28, (41, 2): 37, (25, 2): 52, (2, 4): 42, (43, 4): 48, (41, 34): 33, (41, 43): 45, (34, 12): 35, (34, 30): 29, (18, 12): 39, (18, 30): 40, (28, 29): 38, (29, 30): 46, (12, 29): 39, (12, 28): 39, (34, 29): 30, (18, 29): 34, (19, 12): 35, (19, 30): 44, (34, 19): 22, (34, 28): 43, (18, 19): 44, (18, 28): 29, (34, 18): 41, (28, 30): 42, (19, 29): 37, (12, 30): 41, (19, 28): 32, (15, 39): 38, (14, 15): 31, (20, 39): 36, (20, 29): 41, (43, 39): 34, (32, 39): 40, (20, 15): 44, (43, 20): 44, (32, 20): 38, (20, 14): 45, (29, 39): 40, (29, 15): 42, (32, 43): 52, (43, 29): 44, (32, 29): 34, (29, 14): 35, (43, 15): 39, (32, 15): 33, (43, 14): 41, (32, 14): 27, (14, 39): 37, (33, 29): 40, (29, 13): 42, (33, 28): 37, (32, 34): 34, (28, 13): 35, (32, 33): 33, (43, 28): 38, (32, 28): 39, (43, 13): 42, (32, 13): 38, (34, 13): 37, (33, 34): 31, (33, 43): 37, (2, 13): 44, (40, 44): 39, (44, 14): 29, (34, 6): 31, (6, 14): 29, (40, 2): 41, (40, 6): 34, (2, 44): 46, (40, 34): 34, (44, 13): 31, (34, 14): 31, (2, 6): 27, (40, 14): 27, (2, 14): 46, (44, 6): 38, (40, 13): 40, (13, 14): 37, (34, 44): 36, (44, 29): 40, (29, 22): 41, (44, 37): 38, (36, 29): 40, (36, 37): 43, (46, 22): 32, (44, 46): 38, (37, 29): 43, (44, 36): 43, (34, 37): 38, (36, 46): 42, (44, 22): 41, (36, 22): 39, (34, 46): 34, (37, 46): 40, (34, 36): 44, (34, 22): 33, (29, 46): 35, (37, 22): 42, (42, 11): 46, (11, 23): 45, (48, 22): 35, (22, 23): 37, (11, 4): 43, (48, 11): 38, (6, 23): 37, (48, 6): 39, (42, 6): 39, (4, 6): 29, (11, 22): 45, (42, 23): 39, (42, 4): 40, (48, 42): 34, (6, 22): 37, (48, 23): 45, (48, 4): 34, (4, 23): 33, (42, 22): 44, (4, 22): 44, (11, 6): 40, (29, 31): 34, (17, 43): 37, (17, 29): 29, (43, 22): 39, (43, 31): 34, (17, 37): 32, (26, 29): 37, (22, 31): 40, (26, 37): 40, (17, 22): 32, (17, 31): 35, (17, 26): 27, (43, 37): 46, (26, 22): 37, (26, 31): 44, (37, 31): 42, (25, 20): 22, (48, 17): 30, (25, 15): 36, (17, 20): 32, (48, 25): 30, (25, 14): 32, (17, 15): 33, (48, 20): 29, (17, 14): 32, (48, 43): 45, (48, 15): 38, (25, 17): 33, (48, 14): 29, (26, 39): 40, (40, 31): 44, (2, 31): 45, (40, 26): 35, (1, 38): 42, (38, 31): 36, (26, 38): 44, (40, 39): 37, (2, 39): 40, (40, 38): 40, (2, 38): 39, (40, 1): 51, (1, 31): 43, (1, 26): 47, (38, 39): 33, (1, 39): 33, (31, 39): 42, (1, 2): 46, (18, 7): 37, (37, 7): 29, (25, 19): 31, (13, 7): 30, (19, 13): 34, (25, 37): 27, (19, 7): 39, (18, 37): 49, (25, 18): 43, (18, 14): 33, (25, 13): 31, (37, 14): 31, (14, 7): 30, (25, 7): 30, (19, 37): 40, (18, 13): 41, (19, 14): 42, (37, 13): 38, (37, 21): 44, (2, 21): 37, (43, 21): 43, (32, 21): 33, (32, 25): 31, (32, 2): 48, (25, 21): 39, (2, 37): 30, (4, 37): 34, (32, 37): 34, (32, 4): 38, (4, 21): 38, (3, 6): 34, (3, 28): 54, (3, 23): 39, (45, 6): 35, (32, 45): 39, (28, 6): 31, (17, 6): 24, (32, 17): 43, (17, 28): 43, (32, 3): 45, (28, 23): 40, (17, 23): 37, (32, 6): 29, (3, 45): 37, (45, 23): 37, (28, 45): 39, (17, 45): 35, (17, 3): 30, (32, 23): 39, (24, 46): 32, (24, 36): 32, (24, 45): 38, (36, 23): 53, (8, 46): 41, (24, 12): 37, (8, 36): 59, (8, 45): 47, (12, 23): 31, (8, 12): 41, (36, 45): 39, (45, 46): 39, (12, 46): 39, (12, 36): 38, (12, 45): 33, (24, 23): 45, (8, 24): 47, (46, 23): 42, (8, 23): 48, (41, 1): 56, (25, 11): 41, (32, 41): 43, (25, 1): 46, (17, 1): 35, (32, 11): 33, (11, 45): 47, (32, 1): 39, (41, 45): 46, (41, 17): 32, (25, 45): 33, (41, 11): 42, (1, 45): 41, (17, 11): 36, (1, 11): 42, (41, 15): 40, (41, 23): 49, (48, 12): 41, (12, 15): 44, (23, 15): 34, (41, 22): 43, (41, 12): 45, (17, 12): 35, (12, 22): 33, (48, 41): 41, (22, 15): 38, (8, 18): 36, (17, 34): 35, (17, 19): 44, (12, 37): 50, (8, 17): 32, (17, 18): 26, (8, 34): 39, (8, 19): 43, (8, 37): 44, (48, 31): 41, (48, 21): 34, (48, 30): 46, (21, 22): 42, (30, 22): 44, (8, 22): 44, (8, 31): 46, (8, 21): 39, (8, 30): 50, (14, 22): 46, (14, 31): 34, (21, 14): 34, (48, 8): 38, (30, 14): 35, (8, 14): 41, (26, 7): 33, (1, 43): 43, (2, 7): 37, (43, 7): 44, (4, 38): 29, (1, 4): 34, (38, 7): 36, (43, 38): 34, (1, 7): 41, (4, 7): 41, (33, 20): 31, (25, 6): 35, (16, 46): 42, (12, 20): 29, (16, 12): 40, (33, 46): 32, (25, 46): 40, (46, 6): 32, (25, 12): 40, (20, 46): 30, (16, 25): 36, (16, 20): 33, (16, 6): 41, (16, 33): 41, (20, 6): 33, (33, 25): 35, (41, 14): 41, (2, 12): 32, (2, 30): 38, (41, 46): 43, (12, 14): 35, (46, 30): 35, (41, 30): 39, (2, 29): 35, (46, 14): 40, (41, 29): 39, (2, 46): 49, (11, 5): 43, (43, 36): 45, (36, 5): 42, (17, 5): 29, (5, 21): 31, (49, 36): 49, (11, 36): 47, (49, 21): 41, (11, 21): 44, (49, 11): 40, (17, 36): 39, (17, 49): 31, (36, 21): 47, (17, 21): 31, (43, 5): 42, (49, 43): 37, (11, 43): 35, (49, 5): 37, (11, 37): 41, (11, 13): 43, (11, 35): 46, (37, 38): 46, (37, 15): 49, (21, 38): 33, (21, 15): 44, (13, 38): 38, (35, 38): 37, (13, 15): 36, (35, 15): 44, (35, 37): 46, (11, 38): 43, (35, 13): 42, (38, 15): 40, (11, 15): 45, (45, 7): 43, (49, 46): 38, (49, 45): 40, (8, 49): 39, (3, 46): 35, (8, 3): 41, (46, 7): 28, (49, 3): 35, (8, 7): 50, (49, 7): 36, (3, 7): 32, (42, 46): 49, (42, 45): 29, (8, 42): 43, (49, 42): 42, (42, 3): 42, (42, 7): 27, (26, 30): 42, (24, 26): 31, (24, 44): 27, (24, 30): 39, (16, 26): 34, (24, 25): 33, (44, 30): 51, (24, 39): 32, (16, 44): 33, (16, 39): 40, (30, 39): 31, (16, 24): 31, (44, 39): 36, (25, 44): 33, (26, 44): 33, (25, 30): 33, (25, 39): 39, (41, 5): 39, (4, 5): 37, (4, 14): 29, (26, 5): 50, (26, 14): 31, (5, 38): 39, (38, 14): 29, (5, 14): 37, (41, 38): 31, (48, 36): 44, (48, 45): 43, (45, 30): 46, (48, 26): 33, (25, 36): 35, (48, 24): 29, (36, 30): 40, (26, 36): 48, (26, 45): 35, (37, 30): 39, (13, 30): 52, (1, 37): 35, (20, 37): 44, (1, 14): 29, (1, 13): 32, (20, 13): 33, (45, 37): 34, (45, 14): 45, (45, 13): 35, (20, 45): 35, (1, 30): 42, (20, 30): 39, (1, 20): 36, (26, 11): 42, (17, 39): 29, (19, 45): 37, (45, 39): 49, (26, 19): 41, (26, 13): 44, (17, 13): 31, (19, 39): 30, (11, 39): 39, (11, 19): 39, (3, 19): 28, (28, 20): 35, (13, 22): 36, (19, 22): 38, (3, 13): 39, (3, 22): 50, (3, 11): 41, (28, 22): 33, (20, 22): 35, (19, 20): 37, (11, 20): 45, (11, 28): 39, (3, 20): 36, (25, 29): 32, (46, 31): 40, (49, 22): 39, (49, 31): 45, (25, 22): 29, (25, 31): 50, (49, 34): 43, (49, 29): 46, (25, 49): 35, (34, 31): 33, (34, 7): 42, (33, 1): 48, (33, 10): 41, (13, 46): 32, (10, 7): 40, (1, 34): 31, (1, 10): 33, (1, 46): 47, (34, 10): 34, (33, 7): 35, (10, 13): 25, (10, 46): 26, (28, 39): 39, (48, 3): 38, (48, 39): 34, (40, 3): 44, (9, 28): 40, (40, 48): 27, (48, 28): 36, (40, 28): 39, (48, 9): 31, (48, 13): 34, (40, 9): 42, (9, 3): 39, (3, 39): 35, (44, 47): 32, (40, 27): 35, (40, 45): 39, (6, 47): 38, (40, 11): 44, (27, 45): 37, (27, 44): 44, (11, 27): 43, (45, 47): 31, (44, 45): 45, (27, 6): 37, (40, 47): 33, (11, 44): 29, (11, 47): 31, (10, 3): 35, (25, 10): 25, (33, 23): 37, (3, 4): 44, (33, 4): 35, (26, 10): 38, (25, 23): 39, (26, 23): 39, (33, 26): 33, (33, 3): 33, (25, 3): 34, (10, 23): 36, (10, 4): 37, (26, 3): 49, (11, 14): 37, (10, 36): 37, (32, 36): 35, (9, 11): 32, (10, 11): 40, (36, 14): 37, (9, 10): 34, (9, 14): 31, (10, 14): 29, (9, 36): 37, (9, 4): 33, (32, 10): 33, (32, 9): 27, (4, 36): 36, (49, 18): 31, (49, 4): 35, (32, 49): 40, (4, 30): 36, (32, 30): 39, (4, 20): 35, (18, 20): 30, (49, 30): 41, (49, 2): 40, (2, 20): 46, (18, 4): 33, (2, 18): 38, (32, 18): 42, (49, 20): 29, (9, 30): 27, (9, 34): 34, (9, 43): 26, (43, 30): 47, (43, 6): 38, (28, 46): 43, (9, 46): 36, (6, 30): 37, (43, 46): 41, (17, 44): 26, (16, 36): 39, (16, 49): 38, (16, 17): 36, (49, 44): 43, (1, 36): 40, (1, 49): 36, (17, 30): 37, (1, 44): 36, (16, 1): 53, (42, 44): 39, (27, 36): 34, (27, 22): 35, (34, 42): 41, (42, 27): 37, (42, 36): 42, (36, 6): 30, (34, 27): 27, (32, 31): 43, (33, 45): 35, (33, 31): 46, (33, 17): 34, (33, 30): 38, (45, 31): 37, (32, 35): 38, (33, 35): 33, (1, 35): 45, (4, 31): 29, (35, 4): 29, (34, 35): 31, (3, 15): 46, (41, 37): 45, (3, 37): 36, (6, 15): 34, (41, 49): 43, (37, 6): 29, (41, 3): 39, (41, 6): 39, (49, 6): 35, (49, 15): 38, (49, 37): 30, (41, 10): 48, (10, 22): 37, (2, 22): 46, (10, 30): 33, (16, 41): 56, (16, 22): 41, (16, 2): 34, (33, 41): 34, (33, 22): 27, (2, 10): 40, (33, 2): 37, (16, 10): 32, (5, 46): 34, (33, 5): 33, (43, 45): 38, (5, 45): 32, (43, 12): 35, (12, 5): 33, (48, 44): 46, (34, 11): 37, (44, 5): 41, (48, 34): 21, (40, 30): 26, (5, 30): 39, (11, 30): 45, (34, 5): 37, (48, 5): 36, (40, 5): 35, (9, 44): 35, (9, 22): 35, (9, 17): 34, (33, 36): 29, (33, 49): 31, (33, 44): 28, (33, 11): 48, (11, 29): 30, (17, 42): 32, (19, 27): 36, (27, 12): 32, (42, 19): 40, (48, 19): 32, (17, 27): 38, (48, 27): 35, (42, 12): 42, (10, 44): 50, (16, 37): 39, (10, 6): 23, (29, 6): 40, (10, 29): 41, (10, 37): 49, (16, 11): 32, (16, 29): 38, (42, 39): 37, (19, 46): 34, (7, 39): 37, (19, 31): 37, (27, 39): 41, (46, 39): 37, (27, 7): 37, (42, 31): 37, (27, 46): 32, (7, 31): 42, (24, 5): 39, (24, 13): 41, (24, 49): 43, (5, 7): 38, (49, 13): 37, (30, 7): 49, (24, 7): 34, (4, 13): 39, (5, 13): 39, (24, 4): 40, (8, 4): 36, (25, 42): 37, (32, 8): 41, (3, 36): 39, (32, 42): 49, (8, 25): 26, (44, 38): 30, (32, 44): 30, (42, 38): 39, (42, 5): 40, (2, 42): 41, (32, 38): 28, (2, 5): 29, (32, 5): 32, (49, 38): 39, (26, 6): 35, (2, 3): 38, (49, 26): 37, (3, 30): 38, (6, 7): 36, (24, 27): 45, (1, 15): 44, (11, 46): 41, (24, 11): 33, (1, 27): 35, (24, 15): 34, (24, 1): 38, (24, 37): 35, (27, 15): 41, (46, 15): 34, (27, 37): 43, (41, 42): 49, (41, 28): 43, (24, 41): 37, (28, 38): 45, (28, 15): 36, (1, 42): 38, (1, 28): 39, (42, 15): 30, (42, 28): 48, (24, 38): 33, (24, 42): 32, (24, 28): 43, (33, 42): 38, (42, 20): 33, (40, 20): 30, (40, 33): 40, (40, 42): 35, (20, 31): 36, (42, 30): 38, (40, 46): 30, (3, 14): 43, (40, 21): 29, (42, 14): 42, (19, 21): 35, (3, 21): 46, (40, 19): 26, (42, 21): 49, (27, 13): 33, (24, 21): 38, (27, 20): 27, (24, 14): 29, (24, 20): 27, (20, 21): 44, (27, 14): 39, (25, 28): 32, (25, 5): 48, (28, 5): 41, (26, 28): 50, (19, 43): 34, (19, 5): 46, (40, 7): 29, (16, 40): 31, (16, 7): 38, (33, 27): 35, (11, 7): 38, (16, 34): 24, (5, 6): 39, (42, 10): 42, (19, 6): 41, (10, 19): 35, (10, 5): 35, (16, 42): 38, (16, 19): 33, (16, 5): 34, (10, 31): 37, (32, 22): 30, (24, 31): 39, (24, 22): 31, (41, 31): 36, (32, 48): 27, (48, 10): 33, (32, 24): 48, (24, 10): 32, (13, 31): 36, (38, 46): 30, (45, 29): 40, (45, 38): 42, (29, 38): 32, (42, 29): 40, (48, 29): 36, (48, 37): 33, (42, 37): 42, (28, 47): 36, (4, 44): 34, (4, 29): 33, (4, 47): 28, (4, 28): 33, (29, 47): 39, (32, 47): 35, (28, 44): 40, (22, 47): 32, (41, 18): 51, (16, 32): 46, (9, 47): 34, (16, 18): 44, (18, 47): 46, (9, 41): 44, (9, 18): 32, (32, 46): 31, (46, 47): 39, (18, 46): 34, (16, 9): 25, (41, 47): 43, (26, 42): 34, (36, 31): 43, (12, 31): 29, (26, 12): 35, (34, 21): 36, (21, 7): 44, (34, 20): 41, (49, 14): 34, (20, 7): 32, (10, 21): 40, (44, 23): 47, (8, 44): 46, (8, 11): 35, (44, 21): 36, (21, 23): 42, (8, 10): 47, (29, 7): 33, (26, 46): 31, (19, 38): 34, (8, 9): 37, (9, 5): 33, (8, 13): 39, (10, 43): 42, (8, 43): 43, (8, 6): 29, (8, 5): 42, (33, 15): 32, (48, 35): 41, (10, 35): 40, (48, 1): 37, (48, 33): 31, (10, 15): 43, (16, 48): 35, (16, 15): 41, (40, 41): 44, (42, 43): 37, (41, 27): 41, (40, 43): 35, (43, 27): 32, (26, 27): 30, (27, 28): 43, (20, 47): 30, (15, 47): 32, (7, 47): 36, (7, 15): 35, (22, 7): 40, (13, 47): 28, (19, 47): 27, (19, 15): 34, (24, 35): 40, (35, 12): 35, (25, 35): 39, (35, 23): 37, (3, 5): 32, (5, 22): 34, (5, 31): 40, (3, 31): 33, (6, 31): 36, (32, 19): 34, (10, 45): 48, (32, 26): 29, (32, 7): 34, (25, 47): 42, (36, 47): 40, (23, 39): 41, (4, 39): 44, (23, 47): 34, (47, 39): 32, (36, 39): 39, (4, 45): 35, (38, 23): 41, (33, 38): 40, (25, 38): 42, (10, 38): 34, (26, 21): 37, (26, 20): 37, (24, 3): 41, (10, 20): 38, (34, 38): 36, (38, 30): 37, (48, 38): 30, (38, 6): 36, (10, 12): 35, (40, 12): 38, (12, 47): 39, (10, 47): 30, (40, 24): 33, (40, 10): 35, (24, 47): 33, (49, 23): 44, (1, 23): 32, (10, 28): 39, (49, 10): 33, (49, 28): 39, (36, 38): 30, (23, 31): 47, (34, 39): 24, (25, 27): 33, (24, 34): 31, (40, 17): 34, (14, 23): 46, (33, 14): 34, (8, 33): 38, (30, 23): 38, (20, 38): 41, (2, 27): 52, (28, 14): 26, (49, 27): 34, (2, 28): 44, (27, 4): 35, (10, 27): 33, (3, 27): 37, (9, 27): 40, (9, 31): 41, (9, 26): 37, (35, 46): 35, (12, 4): 31, (48, 46): 35, (4, 46): 36, (5, 47): 26, (16, 38): 27, (5, 23): 41, (16, 28): 38, (16, 23): 39, (38, 47): 38, (49, 47): 44, (2, 35): 46, (2, 11): 43, (26, 47): 32, (8, 26): 35, (8, 35): 36, (11, 12): 31, (8, 2): 50, (2, 47): 26, (8, 47): 34, (26, 35): 44, (35, 44): 38, (35, 28): 38, (5, 39): 26, (37, 39): 39, (24, 6): 38, (5, 15): 48, (5, 37): 35, (2, 36): 40, (18, 36): 32, (18, 22): 37, (18, 3): 42, (18, 39): 35, (18, 42): 33, (26, 18): 42, (42, 13): 43, (18, 5): 51, (18, 23): 43, (40, 23): 30, (40, 18): 31, (18, 45): 35, (1, 22): 36, (16, 8): 40, (16, 14): 42, (8, 1): 29, (34, 3): 22, (2, 45): 47, (33, 18): 26, (18, 43): 35, (34, 45): 32, (3, 43): 38, (10, 39): 37, (8, 27): 36, (8, 39): 39, (27, 5): 31, (18, 6): 41, (17, 10): 29, (1, 3): 45, (2, 15): 44, (1, 21): 37, (15, 31): 52, (16, 45): 37, (1, 18): 36, (18, 27): 27, (27, 23): 34, (17, 47): 32, (28, 36): 38, (28, 31): 28, (14, 47): 36, (3, 44): 38, (3, 35): 27, (17, 46): 27, (17, 2): 30, (48, 49): 29, (48, 7): 29, (49, 19): 31, (11, 31): 41, (44, 31): 51, (41, 44): 39, (33, 19): 40, (36, 7): 43, (3, 12): 28, (35, 22): 33, (41, 35): 45, (41, 21): 41, (48, 2): 41, (41, 36): 37, (43, 47): 36, (40, 36): 35, (1, 6): 37, (16, 3): 35, (9, 19): 38, (9, 42): 42, (12, 7): 44, (1, 19): 49, (2, 19): 32, (1, 5): 37, (7, 23): 49, (44, 7): 33, (9, 25): 29, (9, 1): 41, (9, 2): 39, (38, 22): 40, (41, 20): 31, (26, 15): 35, (40, 29): 34, (40, 15): 41, (5, 29): 44, (44, 15): 40, (29, 23): 42, (9, 49): 38, (24, 2): 34, (9, 45): 40, (24, 9): 32, (18, 21): 35, (48, 18): 48, (20, 36): 35, (40, 49): 31, (20, 5): 23, (4, 15): 40, (34, 15): 25, (40, 35): 30, (3, 47): 33, (43, 35): 46, (1, 29): 38, (1, 47): 37, (35, 29): 35, (3, 29): 35, (18, 44): 31, (34, 47): 31, (18, 10): 27, (9, 29): 31, (9, 15): 48, (9, 7): 39, (18, 15): 36, (18, 31): 34, (16, 43): 45, (8, 15): 49, (21, 46): 34, (30, 15): 49, (28, 37): 42, (9, 37): 31, (40, 25): 39, (49, 12): 25, (8, 28): 42, (48, 47): 33, (40, 4): 24, (35, 45): 37, (9, 35): 43, (35, 5): 33, (17, 38): 28, (18, 35): 35, (18, 11): 40, (35, 14): 43, (33, 37): 31, (12, 44): 28, (16, 13): 38, (36, 13): 33, (29, 21): 30, (9, 20): 32, (18, 38): 35, (24, 43): 32, (24, 18): 36, (45, 22): 35, (33, 47): 32, (41, 13): 35, (37, 47): 33, (19, 36): 30, (8, 38): 38, (3, 38): 32, (24, 17): 26, (28, 21): 33, (19, 4): 27, (19, 35): 32, (35, 39): 53, (24, 19): 33, (45, 15): 37, (49, 35): 30, (40, 8): 36, (19, 23): 43, (42, 47): 33, (28, 7): 29, (17, 7): 36, (37, 23): 28, (2, 23): 39, (49, 39): 31, (17, 4): 33, (34, 23): 31, (13, 23): 33, (42, 35): 29, (40, 22): 35, (22, 39): 34, (8, 20): 48, (35, 7): 33, (41, 19): 26, (12, 38): 34, (27, 38): 27, (36, 15): 44, (9, 38): 35, (45, 21): 33, (8, 29): 36, (19, 44): 28, (41, 7): 43, (35, 36): 46, (35, 20): 30, (20, 44): 28, (32, 12): 28, (43, 44): 33, (41, 39): 36, (9, 23): 40, (43, 23): 45, (32, 27): 28, (24, 33): 34, (8, 41): 41, (20, 23): 29, (40, 37): 34, (1, 12): 35, (27, 29): 25, (32, 40): 31, (24, 29): 31}\n",
      "frequent_itemset_list:  [(33, 6), (9, 39), (21, 13), (12, 39), (9, 6), (9, 33), (12, 6), (21, 39), (33, 13), (33, 12), (33, 21), (13, 39), (21, 6), (6, 39), (9, 13), (13, 6), (9, 12), (9, 21), (12, 13), (12, 21), (33, 39), (21, 31), (35, 27), (21, 30), (35, 31), (16, 27), (16, 31), (35, 21), (35, 30), (16, 35), (27, 31), (16, 21), (16, 30), (30, 31), (27, 21), (27, 30), (21, 47), (47, 31), (35, 47), (16, 47), (27, 47), (30, 47), (25, 34), (25, 43), (2, 26), (41, 4), (26, 34), (26, 43), (34, 43), (25, 41), (41, 26), (2, 34), (2, 43), (25, 4), (26, 4), (25, 26), (34, 4), (41, 2), (25, 2), (2, 4), (43, 4), (41, 34), (41, 43), (34, 12), (34, 30), (18, 12), (18, 30), (28, 29), (29, 30), (12, 29), (12, 28), (34, 29), (18, 29), (19, 12), (19, 30), (34, 19), (34, 28), (18, 19), (18, 28), (34, 18), (28, 30), (19, 29), (12, 30), (19, 28), (15, 39), (14, 15), (20, 39), (20, 29), (43, 39), (32, 39), (20, 15), (43, 20), (32, 20), (20, 14), (29, 39), (29, 15), (32, 43), (43, 29), (32, 29), (29, 14), (43, 15), (32, 15), (43, 14), (32, 14), (14, 39), (33, 29), (29, 13), (33, 28), (32, 34), (28, 13), (32, 33), (43, 28), (32, 28), (43, 13), (32, 13), (34, 13), (33, 34), (33, 43), (2, 13), (40, 44), (44, 14), (34, 6), (6, 14), (40, 2), (40, 6), (2, 44), (40, 34), (44, 13), (34, 14), (2, 6), (40, 14), (2, 14), (44, 6), (40, 13), (13, 14), (34, 44), (44, 29), (29, 22), (44, 37), (36, 29), (36, 37), (46, 22), (44, 46), (37, 29), (44, 36), (34, 37), (36, 46), (44, 22), (36, 22), (34, 46), (37, 46), (34, 36), (34, 22), (29, 46), (37, 22), (42, 11), (11, 23), (48, 22), (22, 23), (11, 4), (48, 11), (6, 23), (48, 6), (42, 6), (4, 6), (11, 22), (42, 23), (42, 4), (48, 42), (6, 22), (48, 23), (48, 4), (4, 23), (42, 22), (4, 22), (11, 6), (29, 31), (17, 43), (17, 29), (43, 22), (43, 31), (17, 37), (26, 29), (22, 31), (26, 37), (17, 22), (17, 31), (17, 26), (43, 37), (26, 22), (26, 31), (37, 31), (25, 20), (48, 17), (25, 15), (17, 20), (48, 25), (25, 14), (17, 15), (48, 20), (17, 14), (48, 43), (48, 15), (25, 17), (48, 14), (26, 39), (40, 31), (2, 31), (40, 26), (1, 38), (38, 31), (26, 38), (40, 39), (2, 39), (40, 38), (2, 38), (40, 1), (1, 31), (1, 26), (38, 39), (1, 39), (31, 39), (1, 2), (18, 7), (37, 7), (25, 19), (13, 7), (19, 13), (25, 37), (19, 7), (18, 37), (25, 18), (18, 14), (25, 13), (37, 14), (14, 7), (25, 7), (19, 37), (18, 13), (19, 14), (37, 13), (37, 21), (2, 21), (43, 21), (32, 21), (32, 25), (32, 2), (25, 21), (2, 37), (4, 37), (32, 37), (32, 4), (4, 21), (3, 6), (3, 28), (3, 23), (45, 6), (32, 45), (28, 6), (17, 6), (32, 17), (17, 28), (32, 3), (28, 23), (17, 23), (32, 6), (3, 45), (45, 23), (28, 45), (17, 45), (17, 3), (32, 23), (24, 46), (24, 36), (24, 45), (36, 23), (8, 46), (24, 12), (8, 36), (8, 45), (12, 23), (8, 12), (36, 45), (45, 46), (12, 46), (12, 36), (12, 45), (24, 23), (8, 24), (46, 23), (8, 23), (41, 1), (25, 11), (32, 41), (25, 1), (17, 1), (32, 11), (11, 45), (32, 1), (41, 45), (41, 17), (25, 45), (41, 11), (1, 45), (17, 11), (1, 11), (41, 15), (41, 23), (48, 12), (12, 15), (23, 15), (41, 22), (41, 12), (17, 12), (12, 22), (48, 41), (22, 15), (8, 18), (17, 34), (17, 19), (12, 37), (8, 17), (17, 18), (8, 34), (8, 19), (8, 37), (48, 31), (48, 21), (48, 30), (21, 22), (30, 22), (8, 22), (8, 31), (8, 21), (8, 30), (14, 22), (14, 31), (21, 14), (48, 8), (30, 14), (8, 14), (26, 7), (1, 43), (2, 7), (43, 7), (4, 38), (1, 4), (38, 7), (43, 38), (1, 7), (4, 7), (33, 20), (25, 6), (16, 46), (12, 20), (16, 12), (33, 46), (25, 46), (46, 6), (25, 12), (20, 46), (16, 25), (16, 20), (16, 6), (16, 33), (20, 6), (33, 25), (41, 14), (2, 12), (2, 30), (41, 46), (12, 14), (46, 30), (41, 30), (2, 29), (46, 14), (41, 29), (2, 46), (11, 5), (43, 36), (36, 5), (17, 5), (5, 21), (49, 36), (11, 36), (49, 21), (11, 21), (49, 11), (17, 36), (17, 49), (36, 21), (17, 21), (43, 5), (49, 43), (11, 43), (49, 5), (11, 37), (11, 13), (11, 35), (37, 38), (37, 15), (21, 38), (21, 15), (13, 38), (35, 38), (13, 15), (35, 15), (35, 37), (11, 38), (35, 13), (38, 15), (11, 15), (45, 7), (49, 46), (49, 45), (8, 49), (3, 46), (8, 3), (46, 7), (49, 3), (8, 7), (49, 7), (3, 7), (42, 46), (42, 45), (8, 42), (49, 42), (42, 3), (42, 7), (26, 30), (24, 26), (24, 44), (24, 30), (16, 26), (24, 25), (44, 30), (24, 39), (16, 44), (16, 39), (30, 39), (16, 24), (44, 39), (25, 44), (26, 44), (25, 30), (25, 39), (41, 5), (4, 5), (4, 14), (26, 5), (26, 14), (5, 38), (38, 14), (5, 14), (41, 38), (48, 36), (48, 45), (45, 30), (48, 26), (25, 36), (48, 24), (36, 30), (26, 36), (26, 45), (37, 30), (13, 30), (1, 37), (20, 37), (1, 14), (1, 13), (20, 13), (45, 37), (45, 14), (45, 13), (20, 45), (1, 30), (20, 30), (1, 20), (26, 11), (17, 39), (19, 45), (45, 39), (26, 19), (26, 13), (17, 13), (19, 39), (11, 39), (11, 19), (3, 19), (28, 20), (13, 22), (19, 22), (3, 13), (3, 22), (3, 11), (28, 22), (20, 22), (19, 20), (11, 20), (11, 28), (3, 20), (25, 29), (46, 31), (49, 22), (49, 31), (25, 22), (25, 31), (49, 34), (49, 29), (25, 49), (34, 31), (34, 7), (33, 1), (33, 10), (13, 46), (10, 7), (1, 34), (1, 10), (1, 46), (34, 10), (33, 7), (10, 13), (10, 46), (28, 39), (48, 3), (48, 39), (40, 3), (9, 28), (40, 48), (48, 28), (40, 28), (48, 9), (48, 13), (40, 9), (9, 3), (3, 39), (44, 47), (40, 27), (40, 45), (6, 47), (40, 11), (27, 45), (27, 44), (11, 27), (45, 47), (44, 45), (27, 6), (40, 47), (11, 44), (11, 47), (10, 3), (25, 10), (33, 23), (3, 4), (33, 4), (26, 10), (25, 23), (26, 23), (33, 26), (33, 3), (25, 3), (10, 23), (10, 4), (26, 3), (11, 14), (10, 36), (32, 36), (9, 11), (10, 11), (36, 14), (9, 10), (9, 14), (10, 14), (9, 36), (9, 4), (32, 10), (32, 9), (4, 36), (49, 18), (49, 4), (32, 49), (4, 30), (32, 30), (4, 20), (18, 20), (49, 30), (49, 2), (2, 20), (18, 4), (2, 18), (32, 18), (49, 20), (9, 30), (9, 34), (9, 43), (43, 30), (43, 6), (28, 46), (9, 46), (6, 30), (43, 46), (17, 44), (16, 36), (16, 49), (16, 17), (49, 44), (1, 36), (1, 49), (17, 30), (1, 44), (16, 1), (42, 44), (27, 36), (27, 22), (34, 42), (42, 27), (42, 36), (36, 6), (34, 27), (32, 31), (33, 45), (33, 31), (33, 17), (33, 30), (45, 31), (32, 35), (33, 35), (1, 35), (4, 31), (35, 4), (34, 35), (3, 15), (41, 37), (3, 37), (6, 15), (41, 49), (37, 6), (41, 3), (41, 6), (49, 6), (49, 15), (49, 37), (41, 10), (10, 22), (2, 22), (10, 30), (16, 41), (16, 22), (16, 2), (33, 41), (33, 22), (2, 10), (33, 2), (16, 10), (5, 46), (33, 5), (43, 45), (5, 45), (43, 12), (12, 5), (48, 44), (34, 11), (44, 5), (48, 34), (40, 30), (5, 30), (11, 30), (34, 5), (48, 5), (40, 5), (9, 44), (9, 22), (9, 17), (33, 36), (33, 49), (33, 44), (33, 11), (11, 29), (17, 42), (19, 27), (27, 12), (42, 19), (48, 19), (17, 27), (48, 27), (42, 12), (10, 44), (16, 37), (10, 6), (29, 6), (10, 29), (10, 37), (16, 11), (16, 29), (42, 39), (19, 46), (7, 39), (19, 31), (27, 39), (46, 39), (27, 7), (42, 31), (27, 46), (7, 31), (24, 5), (24, 13), (24, 49), (5, 7), (49, 13), (30, 7), (24, 7), (4, 13), (5, 13), (24, 4), (8, 4), (25, 42), (32, 8), (3, 36), (32, 42), (8, 25), (44, 38), (32, 44), (42, 38), (42, 5), (2, 42), (32, 38), (2, 5), (32, 5), (49, 38), (26, 6), (2, 3), (49, 26), (3, 30), (6, 7), (24, 27), (1, 15), (11, 46), (24, 11), (1, 27), (24, 15), (24, 1), (24, 37), (27, 15), (46, 15), (27, 37), (41, 42), (41, 28), (24, 41), (28, 38), (28, 15), (1, 42), (1, 28), (42, 15), (42, 28), (24, 38), (24, 42), (24, 28), (33, 42), (42, 20), (40, 20), (40, 33), (40, 42), (20, 31), (42, 30), (40, 46), (3, 14), (40, 21), (42, 14), (19, 21), (3, 21), (40, 19), (42, 21), (27, 13), (24, 21), (27, 20), (24, 14), (24, 20), (20, 21), (27, 14), (25, 28), (25, 5), (28, 5), (26, 28), (19, 43), (19, 5), (40, 7), (16, 40), (16, 7), (33, 27), (11, 7), (16, 34), (5, 6), (42, 10), (19, 6), (10, 19), (10, 5), (16, 42), (16, 19), (16, 5), (10, 31), (32, 22), (24, 31), (24, 22), (41, 31), (32, 48), (48, 10), (32, 24), (24, 10), (13, 31), (38, 46), (45, 29), (45, 38), (29, 38), (42, 29), (48, 29), (48, 37), (42, 37), (28, 47), (4, 44), (4, 29), (4, 47), (4, 28), (29, 47), (32, 47), (28, 44), (22, 47), (41, 18), (16, 32), (9, 47), (16, 18), (18, 47), (9, 41), (9, 18), (32, 46), (46, 47), (18, 46), (16, 9), (41, 47), (26, 42), (36, 31), (12, 31), (26, 12), (34, 21), (21, 7), (34, 20), (49, 14), (20, 7), (10, 21), (44, 23), (8, 44), (8, 11), (44, 21), (21, 23), (8, 10), (29, 7), (26, 46), (19, 38), (8, 9), (9, 5), (8, 13), (10, 43), (8, 43), (8, 6), (8, 5), (33, 15), (48, 35), (10, 35), (48, 1), (48, 33), (10, 15), (16, 48), (16, 15), (40, 41), (42, 43), (41, 27), (40, 43), (43, 27), (26, 27), (27, 28), (20, 47), (15, 47), (7, 47), (7, 15), (22, 7), (13, 47), (19, 47), (19, 15), (24, 35), (35, 12), (25, 35), (35, 23), (3, 5), (5, 22), (5, 31), (3, 31), (6, 31), (32, 19), (10, 45), (32, 26), (32, 7), (25, 47), (36, 47), (23, 39), (4, 39), (23, 47), (47, 39), (36, 39), (4, 45), (38, 23), (33, 38), (25, 38), (10, 38), (26, 21), (26, 20), (24, 3), (10, 20), (34, 38), (38, 30), (48, 38), (38, 6), (10, 12), (40, 12), (12, 47), (10, 47), (40, 24), (40, 10), (24, 47), (49, 23), (1, 23), (10, 28), (49, 10), (49, 28), (36, 38), (23, 31), (34, 39), (25, 27), (24, 34), (40, 17), (14, 23), (33, 14), (8, 33), (30, 23), (20, 38), (2, 27), (28, 14), (49, 27), (2, 28), (27, 4), (10, 27), (3, 27), (9, 27), (9, 31), (9, 26), (35, 46), (12, 4), (48, 46), (4, 46), (5, 47), (16, 38), (5, 23), (16, 28), (16, 23), (38, 47), (49, 47), (2, 35), (2, 11), (26, 47), (8, 26), (8, 35), (11, 12), (8, 2), (2, 47), (8, 47), (26, 35), (35, 44), (35, 28), (5, 39), (37, 39), (24, 6), (5, 15), (5, 37), (2, 36), (18, 36), (18, 22), (18, 3), (18, 39), (18, 42), (26, 18), (42, 13), (18, 5), (18, 23), (40, 23), (40, 18), (18, 45), (1, 22), (16, 8), (16, 14), (8, 1), (34, 3), (2, 45), (33, 18), (18, 43), (34, 45), (3, 43), (10, 39), (8, 27), (8, 39), (27, 5), (18, 6), (17, 10), (1, 3), (2, 15), (1, 21), (15, 31), (16, 45), (1, 18), (18, 27), (27, 23), (17, 47), (28, 36), (28, 31), (14, 47), (3, 44), (3, 35), (17, 46), (17, 2), (48, 49), (48, 7), (49, 19), (11, 31), (44, 31), (41, 44), (33, 19), (36, 7), (3, 12), (35, 22), (41, 35), (41, 21), (48, 2), (41, 36), (43, 47), (40, 36), (1, 6), (16, 3), (9, 19), (9, 42), (12, 7), (1, 19), (2, 19), (1, 5), (7, 23), (44, 7), (9, 25), (9, 1), (9, 2), (38, 22), (41, 20), (26, 15), (40, 29), (40, 15), (5, 29), (44, 15), (29, 23), (9, 49), (24, 2), (9, 45), (24, 9), (18, 21), (48, 18), (20, 36), (40, 49), (20, 5), (4, 15), (34, 15), (40, 35), (3, 47), (43, 35), (1, 29), (1, 47), (35, 29), (3, 29), (18, 44), (34, 47), (18, 10), (9, 29), (9, 15), (9, 7), (18, 15), (18, 31), (16, 43), (8, 15), (21, 46), (30, 15), (28, 37), (9, 37), (40, 25), (49, 12), (8, 28), (48, 47), (40, 4), (35, 45), (9, 35), (35, 5), (17, 38), (18, 35), (18, 11), (35, 14), (33, 37), (12, 44), (16, 13), (36, 13), (29, 21), (9, 20), (18, 38), (24, 43), (24, 18), (45, 22), (33, 47), (41, 13), (37, 47), (19, 36), (8, 38), (3, 38), (24, 17), (28, 21), (19, 4), (19, 35), (35, 39), (24, 19), (45, 15), (49, 35), (40, 8), (19, 23), (42, 47), (28, 7), (17, 7), (37, 23), (2, 23), (49, 39), (17, 4), (34, 23), (13, 23), (42, 35), (40, 22), (22, 39), (8, 20), (35, 7), (41, 19), (12, 38), (27, 38), (36, 15), (9, 38), (45, 21), (8, 29), (19, 44), (41, 7), (35, 36), (35, 20), (20, 44), (32, 12), (43, 44), (41, 39), (9, 23), (43, 23), (32, 27), (24, 33), (8, 41), (20, 23), (40, 37), (1, 12), (27, 29), (32, 40), (24, 29)]\n"
     ]
    },
    {
     "data": {
      "text/html": [
       "<div>\n",
       "<style scoped>\n",
       "    .dataframe tbody tr th:only-of-type {\n",
       "        vertical-align: middle;\n",
       "    }\n",
       "\n",
       "    .dataframe tbody tr th {\n",
       "        vertical-align: top;\n",
       "    }\n",
       "\n",
       "    .dataframe thead th {\n",
       "        text-align: right;\n",
       "    }\n",
       "</style>\n",
       "<table border=\"1\" class=\"dataframe\">\n",
       "  <thead>\n",
       "    <tr style=\"text-align: right;\">\n",
       "      <th></th>\n",
       "      <th>row</th>\n",
       "      <th>date</th>\n",
       "      <th>num1</th>\n",
       "      <th>num2</th>\n",
       "      <th>num3</th>\n",
       "      <th>num4</th>\n",
       "      <th>num5</th>\n",
       "      <th>num6</th>\n",
       "      <th>special</th>\n",
       "    </tr>\n",
       "  </thead>\n",
       "  <tbody>\n",
       "    <tr>\n",
       "      <th>0</th>\n",
       "      <td>0</td>\n",
       "      <td>2004/01/05</td>\n",
       "      <td>6</td>\n",
       "      <td>9</td>\n",
       "      <td>12</td>\n",
       "      <td>13</td>\n",
       "      <td>33</td>\n",
       "      <td>39</td>\n",
       "      <td>21</td>\n",
       "    </tr>\n",
       "    <tr>\n",
       "      <th>1</th>\n",
       "      <td>1</td>\n",
       "      <td>2004/01/08</td>\n",
       "      <td>16</td>\n",
       "      <td>21</td>\n",
       "      <td>27</td>\n",
       "      <td>30</td>\n",
       "      <td>31</td>\n",
       "      <td>47</td>\n",
       "      <td>35</td>\n",
       "    </tr>\n",
       "    <tr>\n",
       "      <th>2</th>\n",
       "      <td>2</td>\n",
       "      <td>2004/01/12</td>\n",
       "      <td>2</td>\n",
       "      <td>4</td>\n",
       "      <td>25</td>\n",
       "      <td>26</td>\n",
       "      <td>34</td>\n",
       "      <td>43</td>\n",
       "      <td>41</td>\n",
       "    </tr>\n",
       "    <tr>\n",
       "      <th>3</th>\n",
       "      <td>3</td>\n",
       "      <td>2004/01/15</td>\n",
       "      <td>18</td>\n",
       "      <td>19</td>\n",
       "      <td>28</td>\n",
       "      <td>29</td>\n",
       "      <td>30</td>\n",
       "      <td>34</td>\n",
       "      <td>12</td>\n",
       "    </tr>\n",
       "    <tr>\n",
       "      <th>4</th>\n",
       "      <td>4</td>\n",
       "      <td>2004/01/19</td>\n",
       "      <td>14</td>\n",
       "      <td>15</td>\n",
       "      <td>20</td>\n",
       "      <td>29</td>\n",
       "      <td>32</td>\n",
       "      <td>39</td>\n",
       "      <td>43</td>\n",
       "    </tr>\n",
       "    <tr>\n",
       "      <th>...</th>\n",
       "      <td>...</td>\n",
       "      <td>...</td>\n",
       "      <td>...</td>\n",
       "      <td>...</td>\n",
       "      <td>...</td>\n",
       "      <td>...</td>\n",
       "      <td>...</td>\n",
       "      <td>...</td>\n",
       "      <td>...</td>\n",
       "    </tr>\n",
       "    <tr>\n",
       "      <th>2074</th>\n",
       "      <td>2074</td>\n",
       "      <td>2023/03/14</td>\n",
       "      <td>3</td>\n",
       "      <td>4</td>\n",
       "      <td>11</td>\n",
       "      <td>12</td>\n",
       "      <td>20</td>\n",
       "      <td>37</td>\n",
       "      <td>5</td>\n",
       "    </tr>\n",
       "    <tr>\n",
       "      <th>2075</th>\n",
       "      <td>2075</td>\n",
       "      <td>2023/03/17</td>\n",
       "      <td>6</td>\n",
       "      <td>7</td>\n",
       "      <td>10</td>\n",
       "      <td>24</td>\n",
       "      <td>29</td>\n",
       "      <td>40</td>\n",
       "      <td>16</td>\n",
       "    </tr>\n",
       "    <tr>\n",
       "      <th>2076</th>\n",
       "      <td>2076</td>\n",
       "      <td>2023/03/21</td>\n",
       "      <td>3</td>\n",
       "      <td>11</td>\n",
       "      <td>20</td>\n",
       "      <td>30</td>\n",
       "      <td>41</td>\n",
       "      <td>45</td>\n",
       "      <td>28</td>\n",
       "    </tr>\n",
       "    <tr>\n",
       "      <th>2077</th>\n",
       "      <td>2077</td>\n",
       "      <td>2023/03/24</td>\n",
       "      <td>2</td>\n",
       "      <td>14</td>\n",
       "      <td>26</td>\n",
       "      <td>34</td>\n",
       "      <td>40</td>\n",
       "      <td>46</td>\n",
       "      <td>13</td>\n",
       "    </tr>\n",
       "    <tr>\n",
       "      <th>2078</th>\n",
       "      <td>2078</td>\n",
       "      <td>2023/03/28</td>\n",
       "      <td>3</td>\n",
       "      <td>10</td>\n",
       "      <td>26</td>\n",
       "      <td>35</td>\n",
       "      <td>37</td>\n",
       "      <td>44</td>\n",
       "      <td>15</td>\n",
       "    </tr>\n",
       "  </tbody>\n",
       "</table>\n",
       "<p>2079 rows × 9 columns</p>\n",
       "</div>"
      ],
      "text/plain": [
       "       row        date  num1  num2  num3  num4  num5  num6  special\n",
       "0        0  2004/01/05     6     9    12    13    33    39       21\n",
       "1        1  2004/01/08    16    21    27    30    31    47       35\n",
       "2        2  2004/01/12     2     4    25    26    34    43       41\n",
       "3        3  2004/01/15    18    19    28    29    30    34       12\n",
       "4        4  2004/01/19    14    15    20    29    32    39       43\n",
       "...    ...         ...   ...   ...   ...   ...   ...   ...      ...\n",
       "2074  2074  2023/03/14     3     4    11    12    20    37        5\n",
       "2075  2075  2023/03/17     6     7    10    24    29    40       16\n",
       "2076  2076  2023/03/21     3    11    20    30    41    45       28\n",
       "2077  2077  2023/03/24     2    14    26    34    40    46       13\n",
       "2078  2078  2023/03/28     3    10    26    35    37    44       15\n",
       "\n",
       "[2079 rows x 9 columns]"
      ]
     },
     "execution_count": 34,
     "metadata": {},
     "output_type": "execute_result"
    }
   ],
   "source": [
    "ap.show_param()\n",
    "history"
   ]
  },
  {
   "cell_type": "code",
   "execution_count": 21,
   "id": "c7e5a6b3",
   "metadata": {},
   "outputs": [
    {
     "name": "stdout",
     "output_type": "stream",
     "text": [
      "support:  0.1\n",
      "confidence:  0.2\n",
      "size:  2\n",
      "itemset_dict:  {}\n",
      "frequent_itemset_list:  []\n"
     ]
    }
   ],
   "source": [
    "ap.show_param()"
   ]
  },
  {
   "cell_type": "code",
   "execution_count": 20,
   "id": "e51f969c",
   "metadata": {},
   "outputs": [],
   "source": [
    "ap.clear_param()"
   ]
  },
  {
   "cell_type": "code",
   "execution_count": 1,
   "id": "aac4e8c8",
   "metadata": {},
   "outputs": [
    {
     "ename": "NameError",
     "evalue": "name 'result' is not defined",
     "output_type": "error",
     "traceback": [
      "\u001b[1;31m---------------------------------------------------------------------------\u001b[0m",
      "\u001b[1;31mNameError\u001b[0m                                 Traceback (most recent call last)",
      "\u001b[1;32m~\\AppData\\Local\\Temp\\ipykernel_26332\\1049141082.py\u001b[0m in \u001b[0;36m<module>\u001b[1;34m\u001b[0m\n\u001b[1;32m----> 1\u001b[1;33m \u001b[0mresult\u001b[0m\u001b[1;33m\u001b[0m\u001b[1;33m\u001b[0m\u001b[0m\n\u001b[0m",
      "\u001b[1;31mNameError\u001b[0m: name 'result' is not defined"
     ]
    }
   ],
   "source": [
    "result"
   ]
  },
  {
   "cell_type": "code",
   "execution_count": null,
   "id": "5c11d0e9",
   "metadata": {},
   "outputs": [],
   "source": []
  }
 ],
 "metadata": {
  "kernelspec": {
   "display_name": "Python 3 (ipykernel)",
   "language": "python",
   "name": "python3"
  },
  "language_info": {
   "codemirror_mode": {
    "name": "ipython",
    "version": 3
   },
   "file_extension": ".py",
   "mimetype": "text/x-python",
   "name": "python",
   "nbconvert_exporter": "python",
   "pygments_lexer": "ipython3",
   "version": "3.9.13"
  }
 },
 "nbformat": 4,
 "nbformat_minor": 5
}
